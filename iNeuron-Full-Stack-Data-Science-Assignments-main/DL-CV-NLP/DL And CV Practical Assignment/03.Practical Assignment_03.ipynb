{
 "cells": [
  {
   "cell_type": "markdown",
   "id": "1c855627",
   "metadata": {},
   "source": [
    "# Practical Assignment_03 Solutions"
   ]
  },
  {
   "cell_type": "markdown",
   "id": "5ced3052",
   "metadata": {},
   "source": [
    "##### Objective: - Image Classification with Indoor Scenes Images\n",
    "From MIT, this dataset contains over 15,000 images of indoor locations. The dataset was originally built to tackle the problem of indoor scene recognition. All images are in JPEG format and have been divided into 67 categories. The number of images per category vary. However, there are at least 100 images for each category.\n",
    "##### Dataset Link: \n",
    "https://www.kaggle.com/itsahmad/indoor-scenes-cvpr-2019\n",
    "##### Task:\n",
    "Create a Web Application using Flask. Use the end user should be able to upload an image and get results with the prediction score. Use any CNN architecture launched after 2014.\n",
    "##### Deployment:\n",
    "Any Free Platform(Try to look out for free options.)\n",
    "##### Assignment Submission: \n",
    "Only submit the hosted app link. "
   ]
  },
  {
   "cell_type": "code",
   "execution_count": null,
   "id": "99f46bca",
   "metadata": {},
   "outputs": [],
   "source": []
  }
 ],
 "metadata": {
  "kernelspec": {
   "display_name": "Python 3",
   "language": "python",
   "name": "python3"
  },
  "language_info": {
   "codemirror_mode": {
    "name": "ipython",
    "version": 3
   },
   "file_extension": ".py",
   "mimetype": "text/x-python",
   "name": "python",
   "nbconvert_exporter": "python",
   "pygments_lexer": "ipython3",
   "version": "3.8.8"
  }
 },
 "nbformat": 4,
 "nbformat_minor": 5
}
