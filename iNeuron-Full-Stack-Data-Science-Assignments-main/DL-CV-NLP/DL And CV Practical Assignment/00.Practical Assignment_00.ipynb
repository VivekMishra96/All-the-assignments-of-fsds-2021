{
 "cells": [
  {
   "cell_type": "markdown",
   "id": "1c855627",
   "metadata": {},
   "source": [
    "# Practical Assignment_00 Solutions"
   ]
  },
  {
   "cell_type": "markdown",
   "id": "cfcfd75d",
   "metadata": {},
   "source": [
    "##### Objective: - Predict Next Sequence\n",
    "To start with deep learning, the very basic project that you can build is to predict the next digit in a sequence. \n",
    "##### Dataset:\n",
    "Create a sequence like a list of odd numbers and then build a model and train it to predict the next digit in the sequence. \n",
    "##### Task:\n",
    "A simple neural network with 2 layers would be sufficient to build the model.\n",
    "##### Assignment Submission:\n",
    "Only submit the Google Colab/Github link.(Make the Link Public)."
   ]
  },
  {
   "cell_type": "code",
   "execution_count": null,
   "id": "99f46bca",
   "metadata": {},
   "outputs": [],
   "source": []
  }
 ],
 "metadata": {
  "kernelspec": {
   "display_name": "Python 3",
   "language": "python",
   "name": "python3"
  },
  "language_info": {
   "codemirror_mode": {
    "name": "ipython",
    "version": 3
   },
   "file_extension": ".py",
   "mimetype": "text/x-python",
   "name": "python",
   "nbconvert_exporter": "python",
   "pygments_lexer": "ipython3",
   "version": "3.8.8"
  }
 },
 "nbformat": 4,
 "nbformat_minor": 5
}
