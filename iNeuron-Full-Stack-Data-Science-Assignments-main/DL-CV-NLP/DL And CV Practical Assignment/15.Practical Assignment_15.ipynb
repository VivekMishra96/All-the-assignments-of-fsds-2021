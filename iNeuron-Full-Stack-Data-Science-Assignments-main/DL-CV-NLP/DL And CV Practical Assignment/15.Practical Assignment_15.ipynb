{
 "cells": [
  {
   "cell_type": "markdown",
   "id": "1c855627",
   "metadata": {},
   "source": [
    "# Practical Assignment_15 Solutions"
   ]
  },
  {
   "cell_type": "markdown",
   "id": "cd0dae77",
   "metadata": {},
   "source": [
    "##### Objective: - Gender and Age Detection\n",
    "You might have seen many smartphone cameras are now equipped with AI. They can even predict if a person is a male or female and their age. This can be done with deep learning but we will need a good amount of data to make this model.\n",
    "##### Dataset Link:\n",
    "https://drive.google.com/file/d/1yy_poZSFAPKi0y2e2yj9XDe1N8xXYuKB/view\n",
    "##### Task:\n",
    "Create a Web Application using Flask. Use the end user should be able to upload an image and get results with the prediction score. \n",
    "##### Deployment:\n",
    "Any Free Platform(Try to look out for free options.)\n",
    "##### Assignment Submission:\n",
    "Only submit the hosted app link. OR GitHub Link"
   ]
  },
  {
   "cell_type": "code",
   "execution_count": null,
   "id": "99f46bca",
   "metadata": {},
   "outputs": [],
   "source": []
  }
 ],
 "metadata": {
  "kernelspec": {
   "display_name": "Python 3",
   "language": "python",
   "name": "python3"
  },
  "language_info": {
   "codemirror_mode": {
    "name": "ipython",
    "version": 3
   },
   "file_extension": ".py",
   "mimetype": "text/x-python",
   "name": "python",
   "nbconvert_exporter": "python",
   "pygments_lexer": "ipython3",
   "version": "3.8.8"
  }
 },
 "nbformat": 4,
 "nbformat_minor": 5
}
