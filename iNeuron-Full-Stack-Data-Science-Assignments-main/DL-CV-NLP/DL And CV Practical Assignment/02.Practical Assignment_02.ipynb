{
 "cells": [
  {
   "cell_type": "markdown",
   "id": "1c855627",
   "metadata": {},
   "source": [
    "# Practical Assignment_02 Solutions"
   ]
  },
  {
   "cell_type": "markdown",
   "id": "a3b34daa",
   "metadata": {},
   "source": [
    "##### Objective: - Image Classification with Stanford Dogs Dataset\n",
    "The Stanford Dogs dataset contains images of 120 breeds of dogs from around the world. This dataset has been built using images and annotation from ImageNet for the task of fine-grained image categorization. Contents of this dataset: \n",
    "- Number of categories: 120\n",
    "- Number of images: 20,580\n",
    "- Annotations: Class labels, Bounding boxes\n",
    "\n",
    "##### Dataset Link: \n",
    "Images Link :- http://vision.stanford.edu/aditya86/ImageNetDogs/images.tar\n",
    "Annotations Link :- http://vision.stanford.edu/aditya86/ImageNetDogs/annotation.tar\n",
    "##### Task: \n",
    "Create a Web Application using Flask. Use the end user should be able to upload an image and get results with the prediction score.\n",
    "##### Deployment: \n",
    "Any Free Platform(Try to look out for free options.)\n",
    "##### Assignment Submission: \n",
    "Only submit the hosted app link. "
   ]
  },
  {
   "cell_type": "code",
   "execution_count": null,
   "id": "99f46bca",
   "metadata": {},
   "outputs": [],
   "source": []
  }
 ],
 "metadata": {
  "kernelspec": {
   "display_name": "Python 3",
   "language": "python",
   "name": "python3"
  },
  "language_info": {
   "codemirror_mode": {
    "name": "ipython",
    "version": 3
   },
   "file_extension": ".py",
   "mimetype": "text/x-python",
   "name": "python",
   "nbconvert_exporter": "python",
   "pygments_lexer": "ipython3",
   "version": "3.8.8"
  }
 },
 "nbformat": 4,
 "nbformat_minor": 5
}
