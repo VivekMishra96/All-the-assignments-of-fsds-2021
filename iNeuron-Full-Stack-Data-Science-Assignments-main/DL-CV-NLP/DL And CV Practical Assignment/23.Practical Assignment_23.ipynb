{
 "cells": [
  {
   "cell_type": "markdown",
   "id": "1c855627",
   "metadata": {},
   "source": [
    "# Practical Assignment_23 Solutions"
   ]
  },
  {
   "cell_type": "markdown",
   "id": "cd0dae77",
   "metadata": {},
   "source": [
    "##### Objective: - Object Tracking for any objects.\n",
    "Object tracking is the process of identifying where a particular object is present in the image.\n",
    "##### Library:\n",
    "https://github.com/tryolabs/norfair\n",
    "##### Dataset Link: - \n",
    "Use anyone of your choice.\n",
    "Use any 2 object for Tracking.\n",
    "##### Task:\n",
    "Create a Desktop App where the videos can be used and get the count of 2 objects in the video.\n",
    "##### Deployment:\n",
    "Any Free Platform(Try to look out for free options.)\n",
    "##### Assignment Submission:\n",
    "Only submit the hosted app link. OR GitHub Link"
   ]
  },
  {
   "cell_type": "code",
   "execution_count": null,
   "id": "99f46bca",
   "metadata": {},
   "outputs": [],
   "source": []
  }
 ],
 "metadata": {
  "kernelspec": {
   "display_name": "Python 3",
   "language": "python",
   "name": "python3"
  },
  "language_info": {
   "codemirror_mode": {
    "name": "ipython",
    "version": 3
   },
   "file_extension": ".py",
   "mimetype": "text/x-python",
   "name": "python",
   "nbconvert_exporter": "python",
   "pygments_lexer": "ipython3",
   "version": "3.8.8"
  }
 },
 "nbformat": 4,
 "nbformat_minor": 5
}
