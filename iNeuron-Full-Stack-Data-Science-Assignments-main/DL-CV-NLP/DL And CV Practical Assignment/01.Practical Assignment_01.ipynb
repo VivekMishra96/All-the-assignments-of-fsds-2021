{
 "cells": [
  {
   "cell_type": "markdown",
   "id": "1c855627",
   "metadata": {},
   "source": [
    "# Practical Assignment_01 Solutions"
   ]
  },
  {
   "cell_type": "markdown",
   "id": "674b936b",
   "metadata": {},
   "source": [
    "##### Objective: - Image Classification with CIFAR 100\n",
    "This dataset is just like the CIFAR-10, except it has 100 classes containing 600 images each. There are 500 training images and 100 testing images per class. The 100 classes in the CIFAR-100 are grouped into 20 superclasses. Each image comes with a \"fine\" label (the class to which it belongs) and a \"coarse\" label (the superclass to which it belongs).\n",
    "#####  Dataset Link: -  \n",
    "https://www.cs.toronto.edu/~kriz/cifar-10-python.tar.gz\n",
    "The dataset is not direct images. Please decode it using your own techniques.\n",
    "#####  Task:\n",
    "Create a Web Application using Flask. Use the end user should be able to upload an image and get results with the prediction score.\n",
    "#####  Deployment:\n",
    "Any Free Platform(Try to look out for free options.)\n",
    "#####  Assignment Submission\n",
    "Only submit the hosted app link. "
   ]
  },
  {
   "cell_type": "code",
   "execution_count": null,
   "id": "99f46bca",
   "metadata": {},
   "outputs": [],
   "source": []
  }
 ],
 "metadata": {
  "kernelspec": {
   "display_name": "Python 3",
   "language": "python",
   "name": "python3"
  },
  "language_info": {
   "codemirror_mode": {
    "name": "ipython",
    "version": 3
   },
   "file_extension": ".py",
   "mimetype": "text/x-python",
   "name": "python",
   "nbconvert_exporter": "python",
   "pygments_lexer": "ipython3",
   "version": "3.8.8"
  }
 },
 "nbformat": 4,
 "nbformat_minor": 5
}
