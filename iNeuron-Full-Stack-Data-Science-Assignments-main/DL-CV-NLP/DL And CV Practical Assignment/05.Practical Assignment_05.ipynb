{
 "cells": [
  {
   "cell_type": "markdown",
   "id": "1c855627",
   "metadata": {},
   "source": [
    "# Practical Assignment_05 Solutions"
   ]
  },
  {
   "cell_type": "markdown",
   "id": "ae9d37d0",
   "metadata": {},
   "source": [
    "##### Objective: - Image Classification with Tiny ImageNet\n",
    "Stanford prepared the Tiny ImageNet dataset for their CS231ncourse. The dataset spans 200 image classes with 500 training examples per class. The dataset also has 50 validation and 50 test examples per class. The images are down-sampled to 64x64 pixels vs. 256x256 for the original ImageNet. The full ImageNet dataset also has 1000 classes. Tiny ImageNet is large enough to be a challenging and realistic problem. But not so big as to require days of training before you see results.\n",
    "##### Dataset Link: -  \n",
    "http://cs231n.stanford.edu/tiny-imagenet-200.zip\n",
    "##### Task:\n",
    "Create a Web Application using Flask. Use the end user should be able to upload an image and get results with the prediction score. Use any CNN architecture launched after 2016.\n",
    "##### Deployment:\n",
    "Any Free Platform(Try to look out for free options.)\n",
    "##### Assignment Submission: \n",
    "Only submit the hosted app link. "
   ]
  },
  {
   "cell_type": "code",
   "execution_count": null,
   "id": "99f46bca",
   "metadata": {},
   "outputs": [],
   "source": []
  }
 ],
 "metadata": {
  "kernelspec": {
   "display_name": "Python 3",
   "language": "python",
   "name": "python3"
  },
  "language_info": {
   "codemirror_mode": {
    "name": "ipython",
    "version": 3
   },
   "file_extension": ".py",
   "mimetype": "text/x-python",
   "name": "python",
   "nbconvert_exporter": "python",
   "pygments_lexer": "ipython3",
   "version": "3.8.8"
  }
 },
 "nbformat": 4,
 "nbformat_minor": 5
}
