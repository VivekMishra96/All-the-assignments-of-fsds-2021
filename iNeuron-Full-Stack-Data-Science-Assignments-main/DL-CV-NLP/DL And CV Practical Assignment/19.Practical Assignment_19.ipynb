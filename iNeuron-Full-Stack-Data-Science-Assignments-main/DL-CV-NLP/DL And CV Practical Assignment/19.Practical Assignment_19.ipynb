{
 "cells": [
  {
   "cell_type": "markdown",
   "id": "1c855627",
   "metadata": {},
   "source": [
    "# Practical Assignment_19 Solutions"
   ]
  },
  {
   "cell_type": "markdown",
   "id": "cd0dae77",
   "metadata": {},
   "source": [
    "##### Objective: - Blur the Face\n",
    "Blurring the face area of people from videos is done in all news channels and to hide the identity of a person.\n",
    "With computer vision, You can automatically detect the face region of the person and use it to blur the image.\n",
    "The project will be useful in blurring the faces of the people in the video.\n",
    "##### Dataset Link: \n",
    "Use anyone of your choice.\n",
    "##### Task:\n",
    "Create a Desktop App where the user can upload an video and the faces will be blurred.\n",
    "##### Deployment:\n",
    "Any Free Platform(Try to look out for free options.)\n",
    "##### Assignment Submission:\n",
    "Only submit the hosted app link. OR GitHub Link"
   ]
  },
  {
   "cell_type": "code",
   "execution_count": null,
   "id": "99f46bca",
   "metadata": {},
   "outputs": [],
   "source": []
  }
 ],
 "metadata": {
  "kernelspec": {
   "display_name": "Python 3",
   "language": "python",
   "name": "python3"
  },
  "language_info": {
   "codemirror_mode": {
    "name": "ipython",
    "version": 3
   },
   "file_extension": ".py",
   "mimetype": "text/x-python",
   "name": "python",
   "nbconvert_exporter": "python",
   "pygments_lexer": "ipython3",
   "version": "3.8.8"
  }
 },
 "nbformat": 4,
 "nbformat_minor": 5
}
