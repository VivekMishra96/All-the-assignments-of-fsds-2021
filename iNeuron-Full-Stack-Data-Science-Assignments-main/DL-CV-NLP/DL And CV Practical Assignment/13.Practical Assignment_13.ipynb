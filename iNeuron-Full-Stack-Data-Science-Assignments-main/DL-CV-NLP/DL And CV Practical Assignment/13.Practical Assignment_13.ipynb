{
 "cells": [
  {
   "cell_type": "markdown",
   "id": "1c855627",
   "metadata": {},
   "source": [
    "# Practical Assignment_13 Solutions"
   ]
  },
  {
   "cell_type": "markdown",
   "id": "cd0dae77",
   "metadata": {},
   "source": [
    "##### Objective: - Coloring old Black&White photos\n",
    "Automated image colorization of B&W images has been a hot topic of exploration in the field of computer vision.\n",
    "##### Dataset Link: \n",
    "Use anyone of your choice.\n",
    "##### Task:\n",
    "Create a Web Application using FASTAPI. Use the end user should be able to upload an B&W image and get color photos .\n",
    "##### Assignment Submission:\n",
    "Only submit the GitHub Link. Create a proper Readme documentation."
   ]
  },
  {
   "cell_type": "code",
   "execution_count": null,
   "id": "99f46bca",
   "metadata": {},
   "outputs": [],
   "source": []
  }
 ],
 "metadata": {
  "kernelspec": {
   "display_name": "Python 3",
   "language": "python",
   "name": "python3"
  },
  "language_info": {
   "codemirror_mode": {
    "name": "ipython",
    "version": 3
   },
   "file_extension": ".py",
   "mimetype": "text/x-python",
   "name": "python",
   "nbconvert_exporter": "python",
   "pygments_lexer": "ipython3",
   "version": "3.8.8"
  }
 },
 "nbformat": 4,
 "nbformat_minor": 5
}
