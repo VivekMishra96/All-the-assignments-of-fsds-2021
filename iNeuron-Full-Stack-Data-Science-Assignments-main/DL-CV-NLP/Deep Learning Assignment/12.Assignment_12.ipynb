{
 "cells": [
  {
   "cell_type": "markdown",
   "id": "dc6bd03c",
   "metadata": {},
   "source": [
    "# Assignment 12 Solutions"
   ]
  },
  {
   "cell_type": "markdown",
   "id": "4a248256",
   "metadata": {},
   "source": [
    "#### 1.\tHow does unsqueeze help us to solve certain broadcasting problems?"
   ]
  },
  {
   "cell_type": "code",
   "execution_count": null,
   "id": "f53873ce",
   "metadata": {},
   "outputs": [],
   "source": []
  },
  {
   "cell_type": "markdown",
   "id": "f5c5f184",
   "metadata": {},
   "source": [
    "#### 2.\tHow can we use indexing to do the same operation as unsqueeze?"
   ]
  },
  {
   "cell_type": "code",
   "execution_count": null,
   "id": "559cf7c0",
   "metadata": {},
   "outputs": [],
   "source": []
  },
  {
   "cell_type": "markdown",
   "id": "edf7aaa4",
   "metadata": {},
   "source": [
    "#### 3.\tHow do we show the actual contents of the memory used for a tensor?"
   ]
  },
  {
   "cell_type": "code",
   "execution_count": null,
   "id": "6b8f87f2",
   "metadata": {},
   "outputs": [],
   "source": []
  },
  {
   "cell_type": "markdown",
   "id": "746cb7cc",
   "metadata": {},
   "source": [
    "#### 4.\tWhen adding a vector of size 3 to a matrix of size 3×3, are the elements of the vector added to each row or each column of the matrix? (Be sure to check your answer by running this code in a notebook.)"
   ]
  },
  {
   "cell_type": "code",
   "execution_count": null,
   "id": "fce7ef2c",
   "metadata": {},
   "outputs": [],
   "source": []
  },
  {
   "cell_type": "markdown",
   "id": "332cbd41",
   "metadata": {},
   "source": [
    "#### 5.\tDo broadcasting and expand_as result in increased memory use? Why or why not?"
   ]
  },
  {
   "cell_type": "code",
   "execution_count": null,
   "id": "71eb63b4",
   "metadata": {},
   "outputs": [],
   "source": []
  },
  {
   "cell_type": "markdown",
   "id": "4e479268",
   "metadata": {},
   "source": [
    "#### 6.\tImplement matmul using Einstein summation."
   ]
  },
  {
   "cell_type": "code",
   "execution_count": null,
   "id": "a08d2239",
   "metadata": {},
   "outputs": [],
   "source": []
  },
  {
   "cell_type": "markdown",
   "id": "f71bd58a",
   "metadata": {},
   "source": [
    "#### 7.\tWhat does a repeated index letter represent on the lefthand side of einsum?"
   ]
  },
  {
   "cell_type": "code",
   "execution_count": null,
   "id": "d595ae24",
   "metadata": {},
   "outputs": [],
   "source": []
  },
  {
   "cell_type": "markdown",
   "id": "0d16db75",
   "metadata": {},
   "source": [
    "#### 8.\tWhat are the three rules of Einstein summation notation? Why?"
   ]
  },
  {
   "cell_type": "code",
   "execution_count": null,
   "id": "d68ec378",
   "metadata": {},
   "outputs": [],
   "source": []
  },
  {
   "cell_type": "markdown",
   "id": "979e3af2",
   "metadata": {},
   "source": [
    "#### 9.\tWhat are the forward pass and backward pass of a neural network?"
   ]
  },
  {
   "cell_type": "code",
   "execution_count": null,
   "id": "d63426f2",
   "metadata": {},
   "outputs": [],
   "source": []
  },
  {
   "cell_type": "markdown",
   "id": "bd77bd31",
   "metadata": {},
   "source": [
    "#### 10.\tWhy do we need to store some of the activations calculated for intermediate layers in the forward pass?"
   ]
  },
  {
   "cell_type": "code",
   "execution_count": null,
   "id": "b5e0d690",
   "metadata": {},
   "outputs": [],
   "source": []
  },
  {
   "cell_type": "markdown",
   "id": "e860f8b5",
   "metadata": {},
   "source": [
    "#### 11.\tWhat is the downside of having activations with a standard deviation too far away from 1?"
   ]
  },
  {
   "cell_type": "code",
   "execution_count": null,
   "id": "b83a4355",
   "metadata": {},
   "outputs": [],
   "source": []
  },
  {
   "cell_type": "markdown",
   "id": "8c713869",
   "metadata": {},
   "source": [
    "#### 12.\tHow can weight initialization help avoid this problem?"
   ]
  },
  {
   "cell_type": "code",
   "execution_count": null,
   "id": "6268f8cd",
   "metadata": {},
   "outputs": [],
   "source": []
  }
 ],
 "metadata": {
  "kernelspec": {
   "display_name": "Python 3",
   "language": "python",
   "name": "python3"
  },
  "language_info": {
   "codemirror_mode": {
    "name": "ipython",
    "version": 3
   },
   "file_extension": ".py",
   "mimetype": "text/x-python",
   "name": "python",
   "nbconvert_exporter": "python",
   "pygments_lexer": "ipython3",
   "version": "3.8.8"
  }
 },
 "nbformat": 4,
 "nbformat_minor": 5
}
