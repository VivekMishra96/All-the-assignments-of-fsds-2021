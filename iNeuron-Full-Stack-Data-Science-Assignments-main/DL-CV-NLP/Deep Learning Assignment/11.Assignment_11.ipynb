{
 "cells": [
  {
   "cell_type": "markdown",
   "id": "dc6bd03c",
   "metadata": {},
   "source": [
    "# Assignment 11 Solutions"
   ]
  },
  {
   "cell_type": "markdown",
   "id": "4a248256",
   "metadata": {},
   "source": [
    "#### 1.\tWrite the Python code to implement a single neuron."
   ]
  },
  {
   "cell_type": "code",
   "execution_count": null,
   "id": "1e73cae6",
   "metadata": {},
   "outputs": [],
   "source": []
  },
  {
   "cell_type": "markdown",
   "id": "f5c5f184",
   "metadata": {},
   "source": [
    "#### 2.\tWrite the Python code to implement ReLU."
   ]
  },
  {
   "cell_type": "code",
   "execution_count": null,
   "id": "4315a679",
   "metadata": {},
   "outputs": [],
   "source": []
  },
  {
   "cell_type": "markdown",
   "id": "edf7aaa4",
   "metadata": {},
   "source": [
    "#### 3.\tWrite the Python code for a dense layer in terms of matrix multiplication."
   ]
  },
  {
   "cell_type": "code",
   "execution_count": null,
   "id": "2a487ef2",
   "metadata": {},
   "outputs": [],
   "source": []
  },
  {
   "cell_type": "markdown",
   "id": "746cb7cc",
   "metadata": {},
   "source": [
    "#### 4.\tWrite the Python code for a dense layer in plain Python (that is, with list comprehensions and functionality built into Python)."
   ]
  },
  {
   "cell_type": "code",
   "execution_count": null,
   "id": "802c6adb",
   "metadata": {},
   "outputs": [],
   "source": []
  },
  {
   "cell_type": "markdown",
   "id": "332cbd41",
   "metadata": {},
   "source": [
    "#### 5.\tWhat is the “hidden size” of a layer?"
   ]
  },
  {
   "cell_type": "code",
   "execution_count": null,
   "id": "ba657edb",
   "metadata": {},
   "outputs": [],
   "source": []
  },
  {
   "cell_type": "markdown",
   "id": "4e479268",
   "metadata": {},
   "source": [
    "#### 6.\tWhat does the t method do in PyTorch?"
   ]
  },
  {
   "cell_type": "code",
   "execution_count": null,
   "id": "11cfd4b7",
   "metadata": {},
   "outputs": [],
   "source": []
  },
  {
   "cell_type": "markdown",
   "id": "f71bd58a",
   "metadata": {},
   "source": [
    "#### 7.\tWhy is matrix multiplication written in plain Python very slow?"
   ]
  },
  {
   "cell_type": "code",
   "execution_count": null,
   "id": "553891b5",
   "metadata": {},
   "outputs": [],
   "source": []
  },
  {
   "cell_type": "markdown",
   "id": "0d16db75",
   "metadata": {},
   "source": [
    "#### 8.\tIn matmul, why is ac==br?"
   ]
  },
  {
   "cell_type": "code",
   "execution_count": null,
   "id": "efe4cf94",
   "metadata": {},
   "outputs": [],
   "source": []
  },
  {
   "cell_type": "markdown",
   "id": "979e3af2",
   "metadata": {},
   "source": [
    "#### 9.\tIn Jupyter Notebook, how do you measure the time taken for a single cell to execute?"
   ]
  },
  {
   "cell_type": "code",
   "execution_count": null,
   "id": "944e1e52",
   "metadata": {},
   "outputs": [],
   "source": []
  },
  {
   "cell_type": "markdown",
   "id": "bd77bd31",
   "metadata": {},
   "source": [
    "#### 10.\tWhat is elementwise arithmetic?"
   ]
  },
  {
   "cell_type": "code",
   "execution_count": null,
   "id": "1bee81cb",
   "metadata": {},
   "outputs": [],
   "source": []
  },
  {
   "cell_type": "markdown",
   "id": "c9b2fdc0",
   "metadata": {},
   "source": [
    "#### 11.\tWrite the PyTorch code to test whether every element of a is greater than the corresponding element of b."
   ]
  },
  {
   "cell_type": "code",
   "execution_count": null,
   "id": "52c535d9",
   "metadata": {},
   "outputs": [],
   "source": []
  },
  {
   "cell_type": "markdown",
   "id": "d03ba3dd",
   "metadata": {},
   "source": [
    "#### 12.\tWhat is a rank-0 tensor? How do you convert it to a plain Python data type?"
   ]
  },
  {
   "cell_type": "code",
   "execution_count": null,
   "id": "9bb7b37f",
   "metadata": {},
   "outputs": [],
   "source": []
  },
  {
   "cell_type": "markdown",
   "id": "69e79117",
   "metadata": {},
   "source": [
    "#### 13.\tHow does elementwise arithmetic help us speed up matmul?"
   ]
  },
  {
   "cell_type": "code",
   "execution_count": null,
   "id": "71f4abb7",
   "metadata": {},
   "outputs": [],
   "source": []
  },
  {
   "cell_type": "markdown",
   "id": "fe43354d",
   "metadata": {},
   "source": [
    "#### 14.\tWhat are the broadcasting rules?"
   ]
  },
  {
   "cell_type": "code",
   "execution_count": null,
   "id": "01663b2a",
   "metadata": {},
   "outputs": [],
   "source": []
  },
  {
   "cell_type": "markdown",
   "id": "8b5204b7",
   "metadata": {},
   "source": [
    "#### 15.\tWhat is expand_as? Show an example of how it can be used to match the results of broadcasting."
   ]
  },
  {
   "cell_type": "code",
   "execution_count": null,
   "id": "b9dd4d50",
   "metadata": {},
   "outputs": [],
   "source": []
  }
 ],
 "metadata": {
  "kernelspec": {
   "display_name": "Python 3",
   "language": "python",
   "name": "python3"
  },
  "language_info": {
   "codemirror_mode": {
    "name": "ipython",
    "version": 3
   },
   "file_extension": ".py",
   "mimetype": "text/x-python",
   "name": "python",
   "nbconvert_exporter": "python",
   "pygments_lexer": "ipython3",
   "version": "3.8.8"
  }
 },
 "nbformat": 4,
 "nbformat_minor": 5
}
