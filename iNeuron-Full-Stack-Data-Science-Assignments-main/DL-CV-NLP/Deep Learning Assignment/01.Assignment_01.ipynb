{
 "cells": [
  {
   "cell_type": "markdown",
   "id": "9388c106",
   "metadata": {},
   "source": [
    "# Assignment 01 Solutions"
   ]
  },
  {
   "cell_type": "markdown",
   "id": "23332082",
   "metadata": {},
   "source": [
    "#### 1.\tWhat is the function of a summation junction of a neuron? What is threshold activation function ?"
   ]
  },
  {
   "cell_type": "code",
   "execution_count": null,
   "id": "87b0a860",
   "metadata": {},
   "outputs": [],
   "source": []
  },
  {
   "cell_type": "markdown",
   "id": "73931c63",
   "metadata": {},
   "source": [
    "#### 2.\tWhat is a step function? What is the difference of step function with threshold function ?"
   ]
  },
  {
   "cell_type": "code",
   "execution_count": null,
   "id": "557bb1f4",
   "metadata": {},
   "outputs": [],
   "source": []
  },
  {
   "cell_type": "markdown",
   "id": "efb9e19b",
   "metadata": {},
   "source": [
    "#### 3.\tExplain the McCulloch–Pitts model of neuron ?"
   ]
  },
  {
   "cell_type": "code",
   "execution_count": null,
   "id": "31cdf7c9",
   "metadata": {},
   "outputs": [],
   "source": []
  },
  {
   "cell_type": "markdown",
   "id": "c3814e96",
   "metadata": {},
   "source": [
    "#### 4.\tExplain the ADALINE network model ?"
   ]
  },
  {
   "cell_type": "code",
   "execution_count": null,
   "id": "d4890e46",
   "metadata": {},
   "outputs": [],
   "source": []
  },
  {
   "cell_type": "markdown",
   "id": "4450753d",
   "metadata": {},
   "source": [
    "#### 5.\tWhat is the constraint of a simple perceptron? Why it may fail with a real-world data set ?"
   ]
  },
  {
   "cell_type": "code",
   "execution_count": null,
   "id": "d05375ec",
   "metadata": {},
   "outputs": [],
   "source": []
  },
  {
   "cell_type": "markdown",
   "id": "64e9b622",
   "metadata": {},
   "source": [
    "#### 6.\tWhat is linearly inseparable problem? What is the role of the hidden layer ?"
   ]
  },
  {
   "cell_type": "code",
   "execution_count": null,
   "id": "9549a261",
   "metadata": {},
   "outputs": [],
   "source": []
  },
  {
   "cell_type": "markdown",
   "id": "88662dbf",
   "metadata": {},
   "source": [
    "#### 7.\tExplain XOR problem in case of a simple perceptron? "
   ]
  },
  {
   "cell_type": "code",
   "execution_count": null,
   "id": "6aa1ac82",
   "metadata": {},
   "outputs": [],
   "source": []
  },
  {
   "cell_type": "markdown",
   "id": "dfd5516b",
   "metadata": {},
   "source": [
    "#### 8.\tDesign a multi-layer perceptron to implement A XOR B ?"
   ]
  },
  {
   "cell_type": "code",
   "execution_count": null,
   "id": "397f960d",
   "metadata": {},
   "outputs": [],
   "source": []
  },
  {
   "cell_type": "markdown",
   "id": "72541716",
   "metadata": {},
   "source": [
    "#### 9.\tExplain the single-layer feed forward architecture of ANN ?"
   ]
  },
  {
   "cell_type": "code",
   "execution_count": null,
   "id": "ff8f5c0c",
   "metadata": {},
   "outputs": [],
   "source": []
  },
  {
   "cell_type": "markdown",
   "id": "39337dbb",
   "metadata": {},
   "source": [
    "#### 10. Explain the competitive network architecture of ANN ?"
   ]
  },
  {
   "cell_type": "code",
   "execution_count": null,
   "id": "03a8218d",
   "metadata": {},
   "outputs": [],
   "source": []
  },
  {
   "cell_type": "markdown",
   "id": "14fcf88b",
   "metadata": {},
   "source": [
    "#### 11. Consider a multi-layer feed forward neural network. Enumerate and explain steps in the backpropagation algorithm used to train the network ?"
   ]
  },
  {
   "cell_type": "code",
   "execution_count": null,
   "id": "9b6e6a50",
   "metadata": {},
   "outputs": [],
   "source": []
  },
  {
   "cell_type": "markdown",
   "id": "f7ed34cd",
   "metadata": {},
   "source": [
    "#### 12. What are the advantages and disadvantages of neural networks ?"
   ]
  },
  {
   "cell_type": "code",
   "execution_count": null,
   "id": "0e7f78e4",
   "metadata": {},
   "outputs": [],
   "source": []
  },
  {
   "cell_type": "markdown",
   "id": "63795b39",
   "metadata": {},
   "source": [
    "#### 13. Write short notes on any two of the following:\n",
    "1. Biological neuron\n",
    "2. ReLU function\n",
    "3. Single-layer feed forward ANN\n",
    "4. Gradient descent\n",
    "5. Recurrent networks"
   ]
  },
  {
   "cell_type": "code",
   "execution_count": null,
   "id": "53ea9305",
   "metadata": {},
   "outputs": [],
   "source": []
  }
 ],
 "metadata": {
  "kernelspec": {
   "display_name": "Python 3",
   "language": "python",
   "name": "python3"
  },
  "language_info": {
   "codemirror_mode": {
    "name": "ipython",
    "version": 3
   },
   "file_extension": ".py",
   "mimetype": "text/x-python",
   "name": "python",
   "nbconvert_exporter": "python",
   "pygments_lexer": "ipython3",
   "version": "3.8.8"
  }
 },
 "nbformat": 4,
 "nbformat_minor": 5
}
