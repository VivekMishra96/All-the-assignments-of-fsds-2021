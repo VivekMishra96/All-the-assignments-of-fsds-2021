{
 "cells": [
  {
   "cell_type": "markdown",
   "id": "dc6bd03c",
   "metadata": {},
   "source": [
    "# Assignment 07 Solutions"
   ]
  },
  {
   "cell_type": "markdown",
   "id": "4a248256",
   "metadata": {},
   "source": [
    "#### 1.\tCan you think of a few applications for a sequence-to-sequence RNN? What about a sequence-to-vector RNN, and a vector-to-sequence RNN?"
   ]
  },
  {
   "cell_type": "code",
   "execution_count": null,
   "id": "5827b7ec",
   "metadata": {},
   "outputs": [],
   "source": []
  },
  {
   "cell_type": "markdown",
   "id": "f5c5f184",
   "metadata": {},
   "source": [
    "#### 2.\tHow many dimensions must the inputs of an RNN layer have? What does each dimension represent? What about its outputs?"
   ]
  },
  {
   "cell_type": "code",
   "execution_count": null,
   "id": "00f4d009",
   "metadata": {},
   "outputs": [],
   "source": []
  },
  {
   "cell_type": "markdown",
   "id": "edf7aaa4",
   "metadata": {},
   "source": [
    "#### 3.\tIf you want to build a deep sequence-to-sequence RNN, which RNN layers should have return_sequences=True? What about a sequence-to-vector RNN?"
   ]
  },
  {
   "cell_type": "code",
   "execution_count": null,
   "id": "0bed7a90",
   "metadata": {},
   "outputs": [],
   "source": []
  },
  {
   "cell_type": "markdown",
   "id": "746cb7cc",
   "metadata": {},
   "source": [
    "#### 4.\tSuppose you have a daily univariate time series, and you want to forecast the next seven days. Which RNN architecture should you use?"
   ]
  },
  {
   "cell_type": "code",
   "execution_count": null,
   "id": "f596b122",
   "metadata": {},
   "outputs": [],
   "source": []
  },
  {
   "cell_type": "markdown",
   "id": "332cbd41",
   "metadata": {},
   "source": [
    "#### 5.\tWhat are the main difficulties when training RNNs? How can you handle them?"
   ]
  },
  {
   "cell_type": "code",
   "execution_count": null,
   "id": "fe7e27f1",
   "metadata": {},
   "outputs": [],
   "source": []
  },
  {
   "cell_type": "markdown",
   "id": "4e479268",
   "metadata": {},
   "source": [
    "#### 6.\tCan you sketch the LSTM cell’s architecture?"
   ]
  },
  {
   "cell_type": "code",
   "execution_count": null,
   "id": "d4c715d6",
   "metadata": {},
   "outputs": [],
   "source": []
  },
  {
   "cell_type": "markdown",
   "id": "f71bd58a",
   "metadata": {},
   "source": [
    "#### 7.\tWhy would you want to use 1D convolutional layers in an RNN?"
   ]
  },
  {
   "cell_type": "code",
   "execution_count": null,
   "id": "a5f46c9a",
   "metadata": {},
   "outputs": [],
   "source": []
  },
  {
   "cell_type": "markdown",
   "id": "0d16db75",
   "metadata": {},
   "source": [
    "#### 8.\tWhich neural network architecture could you use to classify videos?"
   ]
  },
  {
   "cell_type": "code",
   "execution_count": null,
   "id": "dc42c41b",
   "metadata": {},
   "outputs": [],
   "source": []
  },
  {
   "cell_type": "markdown",
   "id": "979e3af2",
   "metadata": {},
   "source": [
    "#### 9.\tTrain a classification model for the SketchRNN dataset, available in TensorFlow Datasets."
   ]
  },
  {
   "cell_type": "code",
   "execution_count": null,
   "id": "d55dac02",
   "metadata": {},
   "outputs": [],
   "source": []
  }
 ],
 "metadata": {
  "kernelspec": {
   "display_name": "Python 3",
   "language": "python",
   "name": "python3"
  },
  "language_info": {
   "codemirror_mode": {
    "name": "ipython",
    "version": 3
   },
   "file_extension": ".py",
   "mimetype": "text/x-python",
   "name": "python",
   "nbconvert_exporter": "python",
   "pygments_lexer": "ipython3",
   "version": "3.8.8"
  }
 },
 "nbformat": 4,
 "nbformat_minor": 5
}
