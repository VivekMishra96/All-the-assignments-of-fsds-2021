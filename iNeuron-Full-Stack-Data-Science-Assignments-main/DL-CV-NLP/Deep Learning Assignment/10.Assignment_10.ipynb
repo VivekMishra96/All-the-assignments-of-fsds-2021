{
 "cells": [
  {
   "cell_type": "markdown",
   "id": "dc6bd03c",
   "metadata": {},
   "source": [
    "# Assignment 10 Solutions"
   ]
  },
  {
   "cell_type": "markdown",
   "id": "4a248256",
   "metadata": {},
   "source": [
    "#### 1.\tWhat does a SavedModel contain? How do you inspect its content?"
   ]
  },
  {
   "cell_type": "code",
   "execution_count": null,
   "id": "3b274cd2",
   "metadata": {},
   "outputs": [],
   "source": []
  },
  {
   "cell_type": "markdown",
   "id": "f5c5f184",
   "metadata": {},
   "source": [
    "#### 2.\tWhen should you use TF Serving? What are its main features? What are some tools you can use to deploy it?"
   ]
  },
  {
   "cell_type": "code",
   "execution_count": null,
   "id": "59f55913",
   "metadata": {},
   "outputs": [],
   "source": []
  },
  {
   "cell_type": "markdown",
   "id": "edf7aaa4",
   "metadata": {},
   "source": [
    "#### 3.\tHow do you deploy a model across multiple TF Serving instances?"
   ]
  },
  {
   "cell_type": "code",
   "execution_count": null,
   "id": "a38e13c2",
   "metadata": {},
   "outputs": [],
   "source": []
  },
  {
   "cell_type": "markdown",
   "id": "746cb7cc",
   "metadata": {},
   "source": [
    "#### 4.\tWhen should you use the gRPC API rather than the REST API to query a model served by TF Serving?"
   ]
  },
  {
   "cell_type": "code",
   "execution_count": null,
   "id": "864ddb9c",
   "metadata": {},
   "outputs": [],
   "source": []
  },
  {
   "cell_type": "markdown",
   "id": "332cbd41",
   "metadata": {},
   "source": [
    "#### 5.\tWhat are the different ways TFLite reduces a model’s size to make it run on a mobile or embedded device?"
   ]
  },
  {
   "cell_type": "code",
   "execution_count": null,
   "id": "fdfeda41",
   "metadata": {},
   "outputs": [],
   "source": []
  },
  {
   "cell_type": "markdown",
   "id": "4e479268",
   "metadata": {},
   "source": [
    "#### 6.\tWhat is quantization-aware training, and why would you need it?"
   ]
  },
  {
   "cell_type": "code",
   "execution_count": null,
   "id": "9cc02912",
   "metadata": {},
   "outputs": [],
   "source": []
  },
  {
   "cell_type": "markdown",
   "id": "f71bd58a",
   "metadata": {},
   "source": [
    "#### 7.\tWhat are model parallelism and data parallelism? Why is the latter generally recommended?"
   ]
  },
  {
   "cell_type": "code",
   "execution_count": null,
   "id": "02a4847d",
   "metadata": {},
   "outputs": [],
   "source": []
  },
  {
   "cell_type": "markdown",
   "id": "0d16db75",
   "metadata": {},
   "source": [
    "#### 8.\tWhen training a model across multiple servers, what distribution strategies can you use? How do you choose which one to use?"
   ]
  },
  {
   "cell_type": "code",
   "execution_count": null,
   "id": "a55f77ff",
   "metadata": {},
   "outputs": [],
   "source": []
  }
 ],
 "metadata": {
  "kernelspec": {
   "display_name": "Python 3",
   "language": "python",
   "name": "python3"
  },
  "language_info": {
   "codemirror_mode": {
    "name": "ipython",
    "version": 3
   },
   "file_extension": ".py",
   "mimetype": "text/x-python",
   "name": "python",
   "nbconvert_exporter": "python",
   "pygments_lexer": "ipython3",
   "version": "3.8.8"
  }
 },
 "nbformat": 4,
 "nbformat_minor": 5
}
