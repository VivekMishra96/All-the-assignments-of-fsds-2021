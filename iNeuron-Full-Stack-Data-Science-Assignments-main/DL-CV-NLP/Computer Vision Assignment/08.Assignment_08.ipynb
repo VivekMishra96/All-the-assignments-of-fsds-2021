{
 "cells": [
  {
   "cell_type": "markdown",
   "id": "99b071bc",
   "metadata": {},
   "source": [
    "# Assignment 08 Solutions"
   ]
  },
  {
   "cell_type": "markdown",
   "id": "faed445a",
   "metadata": {},
   "source": [
    "#### 1. Using our own terms and diagrams, explain INCEPTIONNET ARCHITECTURE ?"
   ]
  },
  {
   "cell_type": "code",
   "execution_count": null,
   "id": "d17adddb",
   "metadata": {},
   "outputs": [],
   "source": []
  },
  {
   "cell_type": "markdown",
   "id": "0804ecc1",
   "metadata": {},
   "source": [
    "#### 2. Describe the Inception block ?"
   ]
  },
  {
   "cell_type": "code",
   "execution_count": null,
   "id": "94bfc84c",
   "metadata": {},
   "outputs": [],
   "source": []
  },
  {
   "cell_type": "markdown",
   "id": "a300559d",
   "metadata": {},
   "source": [
    "#### 3. What is the DIMENSIONALITY REDUCTION LAYER (1 LAYER CONVOLUTIONAL) ?"
   ]
  },
  {
   "cell_type": "code",
   "execution_count": null,
   "id": "f97e77b5",
   "metadata": {},
   "outputs": [],
   "source": []
  },
  {
   "cell_type": "markdown",
   "id": "4246d2fe",
   "metadata": {},
   "source": [
    "#### 4. THE IMPACT OF REDUCING DIMENSIONALITY ON NETWORK PERFORMANCE ?"
   ]
  },
  {
   "cell_type": "code",
   "execution_count": null,
   "id": "5029f059",
   "metadata": {},
   "outputs": [],
   "source": []
  },
  {
   "cell_type": "markdown",
   "id": "76b8aa18",
   "metadata": {},
   "source": [
    "#### 5. Mention three components. Style GoogLeNet ?"
   ]
  },
  {
   "cell_type": "code",
   "execution_count": null,
   "id": "7783cf53",
   "metadata": {},
   "outputs": [],
   "source": []
  },
  {
   "cell_type": "markdown",
   "id": "4bf4effd",
   "metadata": {},
   "source": [
    "#### 6. Using our own terms and diagrams, explain RESNET ARCHITECTURE ?"
   ]
  },
  {
   "cell_type": "code",
   "execution_count": null,
   "id": "39ac42af",
   "metadata": {},
   "outputs": [],
   "source": []
  },
  {
   "cell_type": "markdown",
   "id": "2fac40b1",
   "metadata": {},
   "source": [
    "#### 7. What do Skip Connections entail ?"
   ]
  },
  {
   "cell_type": "code",
   "execution_count": null,
   "id": "f2f19fad",
   "metadata": {},
   "outputs": [],
   "source": []
  },
  {
   "cell_type": "markdown",
   "id": "36e94190",
   "metadata": {},
   "source": [
    "#### 8. What is the definition of a residual Block ?"
   ]
  },
  {
   "cell_type": "code",
   "execution_count": null,
   "id": "4add8c01",
   "metadata": {},
   "outputs": [],
   "source": []
  },
  {
   "cell_type": "markdown",
   "id": "84baff66",
   "metadata": {},
   "source": [
    "#### 9. How can transfer learning help with problems ?"
   ]
  },
  {
   "cell_type": "code",
   "execution_count": null,
   "id": "6765579e",
   "metadata": {},
   "outputs": [],
   "source": []
  },
  {
   "cell_type": "markdown",
   "id": "dff43a28",
   "metadata": {},
   "source": [
    "#### 10. What is transfer learning, and how does it work ?"
   ]
  },
  {
   "cell_type": "code",
   "execution_count": null,
   "id": "6d13e39d",
   "metadata": {},
   "outputs": [],
   "source": []
  },
  {
   "cell_type": "markdown",
   "id": "4d9750dd",
   "metadata": {},
   "source": [
    "#### 11.HOW DO NEURAL NETWORKS LEARN FEATURES? 11. HOW DO NEURAL NETWORKS LEARN FEATURES ?"
   ]
  },
  {
   "cell_type": "code",
   "execution_count": null,
   "id": "d00c6819",
   "metadata": {},
   "outputs": [],
   "source": []
  },
  {
   "cell_type": "markdown",
   "id": "57d70d79",
   "metadata": {},
   "source": [
    "#### 12. WHY IS FINE-TUNING BETTER THAN START-UP TRAINING ?"
   ]
  },
  {
   "cell_type": "code",
   "execution_count": null,
   "id": "d99331be",
   "metadata": {},
   "outputs": [],
   "source": []
  }
 ],
 "metadata": {
  "kernelspec": {
   "display_name": "Python 3",
   "language": "python",
   "name": "python3"
  },
  "language_info": {
   "codemirror_mode": {
    "name": "ipython",
    "version": 3
   },
   "file_extension": ".py",
   "mimetype": "text/x-python",
   "name": "python",
   "nbconvert_exporter": "python",
   "pygments_lexer": "ipython3",
   "version": "3.8.8"
  }
 },
 "nbformat": 4,
 "nbformat_minor": 5
}
