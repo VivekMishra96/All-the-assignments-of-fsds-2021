{
 "cells": [
  {
   "cell_type": "markdown",
   "id": "99b071bc",
   "metadata": {},
   "source": [
    "# Assignment 05 Solutions"
   ]
  },
  {
   "cell_type": "markdown",
   "id": "faed445a",
   "metadata": {},
   "source": [
    "#### 1. How can each of these parameters be fine-tuned? • Number of hidden layers \n",
    "1. Network architecture (network depth)\n",
    "2. Each layer's number of neurons (layer width)\n",
    "3. Form of activation\n",
    "4. Optimization and learning\n",
    "5. Learning rate and decay schedule\n",
    "6. Mini batch size\n",
    "7. Algorithms for optimization\n",
    "8. The number of epochs (and early stopping criteria)\n",
    "9. Overfitting that be avoided by using regularization techniques.\n",
    "10. L2 normalization\n",
    "11. Drop out layers\n",
    "12. Data augmentation"
   ]
  },
  {
   "cell_type": "code",
   "execution_count": null,
   "id": "b7828898",
   "metadata": {},
   "outputs": [],
   "source": []
  }
 ],
 "metadata": {
  "kernelspec": {
   "display_name": "Python 3",
   "language": "python",
   "name": "python3"
  },
  "language_info": {
   "codemirror_mode": {
    "name": "ipython",
    "version": 3
   },
   "file_extension": ".py",
   "mimetype": "text/x-python",
   "name": "python",
   "nbconvert_exporter": "python",
   "pygments_lexer": "ipython3",
   "version": "3.8.8"
  }
 },
 "nbformat": 4,
 "nbformat_minor": 5
}
