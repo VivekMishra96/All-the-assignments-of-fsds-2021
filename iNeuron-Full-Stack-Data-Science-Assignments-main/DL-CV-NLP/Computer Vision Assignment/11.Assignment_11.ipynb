{
 "cells": [
  {
   "cell_type": "markdown",
   "id": "99b071bc",
   "metadata": {},
   "source": [
    "# Assignment 11 Solutions"
   ]
  },
  {
   "cell_type": "markdown",
   "id": "faed445a",
   "metadata": {},
   "source": [
    "#### 1.\tWrite the Python code to implement a single neuron ?"
   ]
  },
  {
   "cell_type": "code",
   "execution_count": null,
   "id": "8e1c36e1",
   "metadata": {},
   "outputs": [],
   "source": []
  },
  {
   "cell_type": "markdown",
   "id": "0804ecc1",
   "metadata": {},
   "source": [
    "#### 2.\tWrite the Python code to implement ReLU ?"
   ]
  },
  {
   "cell_type": "code",
   "execution_count": null,
   "id": "e333012c",
   "metadata": {},
   "outputs": [],
   "source": []
  },
  {
   "cell_type": "markdown",
   "id": "a300559d",
   "metadata": {},
   "source": [
    "#### 3.\tWrite the Python code for a dense layer in terms of matrix multiplication ?"
   ]
  },
  {
   "cell_type": "code",
   "execution_count": null,
   "id": "624989e5",
   "metadata": {},
   "outputs": [],
   "source": []
  },
  {
   "cell_type": "markdown",
   "id": "4246d2fe",
   "metadata": {},
   "source": [
    "#### 4.\tWrite the Python code for a dense layer in plain Python (that is, with list comprehensions and functionality built into Python) ?"
   ]
  },
  {
   "cell_type": "code",
   "execution_count": null,
   "id": "c1341bb8",
   "metadata": {},
   "outputs": [],
   "source": []
  },
  {
   "cell_type": "markdown",
   "id": "76b8aa18",
   "metadata": {},
   "source": [
    "#### 5.\tWhat is the “hidden size” of a layer ?"
   ]
  },
  {
   "cell_type": "code",
   "execution_count": null,
   "id": "0d3217d2",
   "metadata": {},
   "outputs": [],
   "source": []
  },
  {
   "cell_type": "markdown",
   "id": "4bf4effd",
   "metadata": {},
   "source": [
    "#### 6.\tWhat does the t method do in PyTorch ?"
   ]
  },
  {
   "cell_type": "code",
   "execution_count": null,
   "id": "6b751d4f",
   "metadata": {},
   "outputs": [],
   "source": []
  },
  {
   "cell_type": "markdown",
   "id": "2fac40b1",
   "metadata": {},
   "source": [
    "#### 7.\tWhy is matrix multiplication written in plain Python very slow ?"
   ]
  },
  {
   "cell_type": "code",
   "execution_count": null,
   "id": "68d2e97a",
   "metadata": {},
   "outputs": [],
   "source": []
  },
  {
   "cell_type": "markdown",
   "id": "36e94190",
   "metadata": {},
   "source": [
    "#### 8.\tIn matmul, why is ac==br ?"
   ]
  },
  {
   "cell_type": "code",
   "execution_count": null,
   "id": "0cda3a68",
   "metadata": {},
   "outputs": [],
   "source": []
  },
  {
   "cell_type": "markdown",
   "id": "84baff66",
   "metadata": {},
   "source": [
    "#### 9.\tIn Jupyter Notebook, how do you measure the time taken for a single cell to execute ?"
   ]
  },
  {
   "cell_type": "code",
   "execution_count": null,
   "id": "884001f0",
   "metadata": {},
   "outputs": [],
   "source": []
  },
  {
   "cell_type": "markdown",
   "id": "dff43a28",
   "metadata": {},
   "source": [
    "#### 10. What is elementwise arithmetic ?"
   ]
  },
  {
   "cell_type": "code",
   "execution_count": null,
   "id": "fd947240",
   "metadata": {},
   "outputs": [],
   "source": []
  },
  {
   "cell_type": "markdown",
   "id": "8cd9c4a4",
   "metadata": {},
   "source": [
    "#### 11.Write the PyTorch code to test whether every element of a is greater than the corresponding element of b."
   ]
  },
  {
   "cell_type": "code",
   "execution_count": null,
   "id": "bd304c3b",
   "metadata": {},
   "outputs": [],
   "source": []
  },
  {
   "cell_type": "markdown",
   "id": "125b1f81",
   "metadata": {},
   "source": [
    "#### 12.What is a rank-0 tensor? How do you convert it to a plain Python data type ?"
   ]
  },
  {
   "cell_type": "code",
   "execution_count": null,
   "id": "e3514a3f",
   "metadata": {},
   "outputs": [],
   "source": []
  },
  {
   "cell_type": "markdown",
   "id": "ec31e38e",
   "metadata": {},
   "source": [
    "#### 13.How does elementwise arithmetic help us speed up matmul ?"
   ]
  },
  {
   "cell_type": "code",
   "execution_count": null,
   "id": "a613a051",
   "metadata": {},
   "outputs": [],
   "source": []
  },
  {
   "cell_type": "markdown",
   "id": "786b7b13",
   "metadata": {},
   "source": [
    "#### 14.What are the broadcasting rules ?"
   ]
  },
  {
   "cell_type": "code",
   "execution_count": null,
   "id": "8458299c",
   "metadata": {},
   "outputs": [],
   "source": []
  },
  {
   "cell_type": "markdown",
   "id": "48bcf072",
   "metadata": {},
   "source": [
    "#### 15.What is expand_as? Show an example of how it can be used to match the results of broadcasting ?"
   ]
  },
  {
   "cell_type": "code",
   "execution_count": null,
   "id": "b1eac126",
   "metadata": {},
   "outputs": [],
   "source": []
  }
 ],
 "metadata": {
  "kernelspec": {
   "display_name": "Python 3",
   "language": "python",
   "name": "python3"
  },
  "language_info": {
   "codemirror_mode": {
    "name": "ipython",
    "version": 3
   },
   "file_extension": ".py",
   "mimetype": "text/x-python",
   "name": "python",
   "nbconvert_exporter": "python",
   "pygments_lexer": "ipython3",
   "version": "3.8.8"
  }
 },
 "nbformat": 4,
 "nbformat_minor": 5
}
