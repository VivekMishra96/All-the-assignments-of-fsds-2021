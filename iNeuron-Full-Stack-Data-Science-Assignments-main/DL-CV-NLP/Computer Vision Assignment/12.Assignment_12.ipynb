{
 "cells": [
  {
   "cell_type": "markdown",
   "id": "99b071bc",
   "metadata": {},
   "source": [
    "# Assignment 12 Solutions"
   ]
  },
  {
   "cell_type": "markdown",
   "id": "faed445a",
   "metadata": {},
   "source": [
    "#### 1. Describe the Quick R-CNN architecture ?"
   ]
  },
  {
   "cell_type": "code",
   "execution_count": null,
   "id": "d550e031",
   "metadata": {},
   "outputs": [],
   "source": []
  },
  {
   "cell_type": "markdown",
   "id": "0804ecc1",
   "metadata": {},
   "source": [
    "#### 2. Describe two Fast R-CNN loss functions ?"
   ]
  },
  {
   "cell_type": "code",
   "execution_count": null,
   "id": "6d47f4d2",
   "metadata": {},
   "outputs": [],
   "source": []
  },
  {
   "cell_type": "markdown",
   "id": "a300559d",
   "metadata": {},
   "source": [
    "#### 3. Describe the DISABILITIES OF FAST R-CNN ?"
   ]
  },
  {
   "cell_type": "code",
   "execution_count": null,
   "id": "daddb3bb",
   "metadata": {},
   "outputs": [],
   "source": []
  },
  {
   "cell_type": "markdown",
   "id": "4246d2fe",
   "metadata": {},
   "source": [
    "#### 4. Describe how the area proposal network works ?"
   ]
  },
  {
   "cell_type": "code",
   "execution_count": null,
   "id": "34f3f50d",
   "metadata": {},
   "outputs": [],
   "source": []
  },
  {
   "cell_type": "markdown",
   "id": "76b8aa18",
   "metadata": {},
   "source": [
    "#### 5. Describe how the RoI pooling layer works ?"
   ]
  },
  {
   "cell_type": "code",
   "execution_count": null,
   "id": "d84177fe",
   "metadata": {},
   "outputs": [],
   "source": []
  },
  {
   "cell_type": "markdown",
   "id": "4bf4effd",
   "metadata": {},
   "source": [
    "#### 6. What are fully convolutional networks and how do they work? (FCNs) ?"
   ]
  },
  {
   "cell_type": "code",
   "execution_count": null,
   "id": "dcc3e7b5",
   "metadata": {},
   "outputs": [],
   "source": []
  },
  {
   "cell_type": "markdown",
   "id": "2fac40b1",
   "metadata": {},
   "source": [
    "#### 7. What are anchor boxes and how do you use them ?"
   ]
  },
  {
   "cell_type": "code",
   "execution_count": null,
   "id": "023bc0ff",
   "metadata": {},
   "outputs": [],
   "source": []
  },
  {
   "cell_type": "markdown",
   "id": "36e94190",
   "metadata": {},
   "source": [
    "#### 8. Describe the Single-shot Detector's architecture (SSD) ?"
   ]
  },
  {
   "cell_type": "code",
   "execution_count": null,
   "id": "c4788ba4",
   "metadata": {},
   "outputs": [],
   "source": []
  },
  {
   "cell_type": "markdown",
   "id": "84baff66",
   "metadata": {},
   "source": [
    "#### 9. HOW DOES THE SSD NETWORK PREDICT ?"
   ]
  },
  {
   "cell_type": "code",
   "execution_count": null,
   "id": "2829c32b",
   "metadata": {},
   "outputs": [],
   "source": []
  },
  {
   "cell_type": "markdown",
   "id": "dff43a28",
   "metadata": {},
   "source": [
    "#### 10. Explain Multi Scale Detections ?"
   ]
  },
  {
   "cell_type": "code",
   "execution_count": null,
   "id": "5b2c180f",
   "metadata": {},
   "outputs": [],
   "source": []
  },
  {
   "cell_type": "markdown",
   "id": "29182790",
   "metadata": {},
   "source": [
    "#### 11. What are dilated (or atrous) convolutions ?"
   ]
  },
  {
   "cell_type": "code",
   "execution_count": null,
   "id": "060da02a",
   "metadata": {},
   "outputs": [],
   "source": []
  }
 ],
 "metadata": {
  "kernelspec": {
   "display_name": "Python 3",
   "language": "python",
   "name": "python3"
  },
  "language_info": {
   "codemirror_mode": {
    "name": "ipython",
    "version": 3
   },
   "file_extension": ".py",
   "mimetype": "text/x-python",
   "name": "python",
   "nbconvert_exporter": "python",
   "pygments_lexer": "ipython3",
   "version": "3.8.8"
  }
 },
 "nbformat": 4,
 "nbformat_minor": 5
}
