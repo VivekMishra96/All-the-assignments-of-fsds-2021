{
  "nbformat": 4,
  "nbformat_minor": 0,
  "metadata": {
    "colab": {
      "provenance": []
    },
    "kernelspec": {
      "name": "python3",
      "display_name": "Python 3"
    },
    "language_info": {
      "name": "python"
    }
  },
  "cells": [
    {
      "cell_type": "markdown",
      "source": [
        "1.\n",
        "Harvard Law School courses often have assigned seating to facilitate the “Socratic method.”\n",
        "Suppose that there are 100 first year Harvard Law students, and each takes two courses:\n",
        "Torts and Contracts. Both are held in the same lecture hall (which has 100 seats), and the\n",
        "seating is uniformly random and independent for the two courses.\n",
        "\n",
        "(a) Find the probability that no one has the same seat for both courses (exactly; you should\n",
        "leave your answer as a sum).\n",
        "\n",
        "(b) Find a simple but accurate approximation to the probability that no one has the same\n",
        "seat for both courses.\n",
        "\n",
        "(c) Find a simple but accurate approximation to the probability that at least two students\n",
        "have the same seat for both courses."
      ],
      "metadata": {
        "id": "B_6Lcb1tDiLg"
      }
    },
    {
      "cell_type": "markdown",
      "source": [
        "(a) To find the probability that no one has the same seat for both courses, we can consider the number of possible permutations without any overlap and divide it by the total number of possible permutations. Let's calculate it step by step:\n",
        "\n",
        "1. The first student has 100 possible seats in the lecture hall.\n",
        "2. For the second student, there are 99 remaining seats to choose from (since they cannot occupy the same seat as the first student).\n",
        "3. For each subsequent student, there are (100 - k + 1) remaining seats available, where k represents the number of students already seated.\n",
        "\n",
        "Therefore, the probability of no overlap can be calculated as:\n",
        "\n",
        "P(no overlap) = (100/100) * (99/100) * (98/100) * ... * (2/100) * (1/100)\n",
        "\n",
        "(b) To find a simple approximation for the probability of no overlap, we can use the approximation e^(-1), which is based on the concept of the limit as the number of students approaches infinity. Since the number of students (100) is reasonably large, this approximation is often accurate:\n",
        "\n",
        "P(approximation) = e^(-1)\n",
        "\n",
        "(c) To find a simple approximation for the probability of at least two students having the same seat for both courses, we can use the complementary probability approach. The probability of at least two students having the same seat is 1 minus the probability of no overlap:\n",
        "\n",
        "P(at least two students with same seat) = 1 - P(no overlap)\n",
        "\n",
        "Using the approximation from part (b), the approximation for the probability of at least two students having the same seat is:\n",
        "\n",
        "P(approximation) = 1 - e^(-1)\n",
        "\n",
        "Note: While the approximation is often accurate, it is important to remember that it is an approximation and may not precisely represent the exact probability."
      ],
      "metadata": {
        "id": "mhI7n948D7ER"
      }
    },
    {
      "cell_type": "markdown",
      "source": [
        "2.\n",
        "There are 100 passengers lined up to board an airplane with 100 seats (with each seat\n",
        "assigned to one of the passengers). The first passenger in line crazily decides to sit in a\n",
        "randomly chosen seat (with all seats equally likely). Each subsequent passenger takes his or\n",
        "her assigned seat if available, and otherwise sits in a random available seat. What is the\n",
        "probability that the last passenger in line gets to sit in his or her assigned seat?"
      ],
      "metadata": {
        "id": "Ep_O5atUEEEo"
      }
    },
    {
      "cell_type": "markdown",
      "source": [
        "The probability that the last passenger in line gets to sit in his or her assigned seat can be determined by considering different scenarios:\n",
        "\n",
        "1. Scenario 1: The first passenger (Passenger 1) sits in his or her assigned seat (Seat 1).\n",
        "   - In this case, all passengers will be able to sit in their assigned seats, including the last passenger. The probability of this scenario is 1/100.\n",
        "\n",
        "2. Scenario 2: Passenger 1 sits in the last passenger's assigned seat (Seat 100).\n",
        "   - In this case, the last passenger will not be able to sit in his or her assigned seat, and the rest of the passengers will have to choose a seat randomly. The probability of this scenario is also 1/100.\n",
        "\n",
        "3. Scenario 3: Passenger 1 sits in any seat between Seat 2 and Seat 99 (excluding Seat 100).\n",
        "   - In this case, the seating arrangement can be thought of as two separate scenarios: the first part of the line up to Passenger 1, and the second part of the line after Passenger 1. For both parts, the situation is equivalent to the original problem with one fewer passenger and one fewer seat.\n",
        "   - Therefore, the probability of this scenario is (1/100) * P(last passenger gets assigned seat in the remaining 98 seats) = (1/100) * P(last passenger gets assigned seat).\n",
        "\n",
        "We can express the probability recursively as follows:\n",
        "\n",
        "P(last passenger gets assigned seat) = (1/100) * P(last passenger gets assigned seat) + (1/100) * P(last passenger gets assigned seat) + (1/100)\n",
        "\n",
        "Simplifying the equation, we get:\n",
        "\n",
        "P(last passenger gets assigned seat) = 1/2\n",
        "\n",
        "So, the probability that the last passenger in line gets to sit in his or her assigned seat is 1/2."
      ],
      "metadata": {
        "id": "bomkiH5xEVNg"
      }
    },
    {
      "cell_type": "code",
      "source": [],
      "metadata": {
        "id": "-MlS1T5LEWFX"
      },
      "execution_count": null,
      "outputs": []
    }
  ]
}