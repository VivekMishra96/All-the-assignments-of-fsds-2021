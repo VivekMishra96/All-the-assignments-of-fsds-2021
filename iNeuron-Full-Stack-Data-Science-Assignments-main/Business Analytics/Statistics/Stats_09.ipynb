{
  "nbformat": 4,
  "nbformat_minor": 0,
  "metadata": {
    "colab": {
      "provenance": []
    },
    "kernelspec": {
      "name": "python3",
      "display_name": "Python 3"
    },
    "language_info": {
      "name": "python"
    }
  },
  "cells": [
    {
      "cell_type": "markdown",
      "source": [
        "1.\n",
        "You are going to play 2 games of chess with an opponent whom you have never played\n",
        "against before (for the sake of this problem). Your opponent is equally likely to be a\n",
        "beginner, intermediate, or a master. Depending on\n",
        "(a) What is your probability of winning the first game?\n",
        "(b) Congratulations: you won the first game! Given this information, what is the probability\n",
        "that you will also win the second game\n",
        "(c) Explain the distinction between assuming that the outcomes of the games are\n",
        "independent and assuming that they are conditionally independent given the opponent’s\n",
        "skill level. Which of these assumptions seems more reasonable, and why?"
      ],
      "metadata": {
        "id": "gHX06teglecZ"
      }
    },
    {
      "cell_type": "markdown",
      "source": [
        "(a) Assuming that the outcomes of the games are independent, the probability of winning the first game does not depend on the opponent's skill level. Since the opponent can be equally likely a beginner, intermediate, or a master, there is a 1/3 chance of playing against each skill level.\n",
        "\n",
        "If we denote W1 as the event of winning the first game, B as the event of playing against a beginner, I as the event of playing against an intermediate player, and M as the event of playing against a master player, we can calculate the probability of winning the first game as follows:\n",
        "\n",
        "P(W1) = P(W1|B) * P(B) + P(W1|I) * P(I) + P(W1|M) * P(M)\n",
        "\n",
        "Since the opponent's skill level is equally likely to be beginner, intermediate, or master, we have P(B) = P(I) = P(M) = 1/3. Let's assume that the probability of winning against each skill level is as follows: P(W1|B) = p1, P(W1|I) = p2, P(W1|M) = p3.\n",
        "\n",
        "Therefore, the probability of winning the first game is:\n",
        "\n",
        "P(W1) = p1 * (1/3) + p2 * (1/3) + p3 * (1/3)\n",
        "\n",
        "(b) Given that you won the first game, we can calculate the probability of winning the second game under the assumption of conditional independence given the opponent's skill level. In this case, the probability of winning the second game depends on the opponent's skill level.\n",
        "\n",
        "Let W2 denote the event of winning the second game. We want to find P(W2|W1), the probability of winning the second game given that you won the first game. This can be calculated using Bayes' theorem:\n",
        "\n",
        "P(W2|W1) = (P(W1|W2) * P(W2)) / P(W1)\n",
        "\n",
        "Ans;\n",
        "Here, P(W2) is the overall probability of winning the second game, and P(W1|W2) is the probability of winning the first game given that you won the second game. Since we don't have any specific information about the relationship between winning one game and winning the other, we can assume that P(W1|W2) is equal to P(W1).\n",
        "\n",
        "Therefore, P(W2|W1) = P(W1) * P(W2) / P(W1) = P(W2)\n",
        "\n",
        "So the probability of winning the second game given that you won the first game is simply equal to the overall probability of winning the second game.\n",
        "\n",
        "(c) Assuming that the outcomes of the games are independent means that the result of one game does not affect the result of the other game. In this case, winning or losing the first game does not provide any information about the opponent's skill level or the outcome of the second game. Each game is treated as a separate, unrelated event.\n",
        "\n",
        "Assuming that the outcomes are conditionally independent given the opponent's skill level means that the result of one game may depend on the opponent's skill level, but once the skill level is known, the outcomes of the games are independent. This assumption implies that the opponent's skill level directly influences the outcome of each game, but there is no correlation or dependency between the two games given the skill level.\n",
        "\n",
        "In terms of reasonability, assuming that the outcomes of the games are conditionally independent given the opponent's skill level seems more reasonable. A player's skill level can certainly influence the outcome of a game, and it is reasonable to assume that a stronger player would have a higher probability of winning. However, once the skill level is known, the results of the two games should be independent of"
      ],
      "metadata": {
        "id": "gzBquy8slsRA"
      }
    }
  ]
}