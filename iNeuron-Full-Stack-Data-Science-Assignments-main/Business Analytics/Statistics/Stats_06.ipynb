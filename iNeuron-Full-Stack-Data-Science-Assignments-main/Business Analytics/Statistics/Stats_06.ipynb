{
  "nbformat": 4,
  "nbformat_minor": 0,
  "metadata": {
    "colab": {
      "provenance": []
    },
    "kernelspec": {
      "name": "python3",
      "display_name": "Python 3"
    },
    "language_info": {
      "name": "python"
    }
  },
  "cells": [
    {
      "cell_type": "markdown",
      "source": [
        "1.\n",
        "A group of n 2 people decide to play an exciting game of Rock-Paper Scissors. As you may\n",
        "recall, Rock smashes Scissors, Scissors cuts Paper, and Paper covers Rock (despite Bart\n",
        "Simpson saying “Good old rock, nothing beats that!”). Usually, this game is played with 2\n",
        "players, but it can be extended to more players as follows. If exactly 2 of the 3 choices\n",
        "appear when everyone reveals their choice, say a, b 2 {Rock, P aper, Scissors} where a beats\n",
        "b, the game is decisive: the players who chose a win, and the players who chose b lose.\n",
        "Otherwise, the game is indecisive and the players play again. For example, with 5 players, if\n",
        "one player picks Rock, two pick Scissors, and two pick Paper, the round is indecisive and they\n",
        "play again. But if 3 pick Rock and 2 pick Scissors, then the Rock players win and the Scissors\n",
        "players lose the game. 1 Assume that the n players independently and randomly choose\n",
        "between Rock, Scissors, and Paper, with equal probabilities. Let X, Y, Z be the number of\n",
        "players who pick Rock, Scissors, Paper, respectively in one game.\n",
        "(a) Find the joint PMF of X, Y, Z.\n",
        "(b) Find the probability that the game is decisive. Simplify your answer (it should not involve\n",
        "a sum of many terms).\n",
        "(c) What is the probability that the game is decisive for n = 5? What is the limiting probability\n",
        "that a game is decisive as n ! 1? Explain briefly why your answer makes sense."
      ],
      "metadata": {
        "id": "DnP6NDGleb_p"
      }
    },
    {
      "cell_type": "markdown",
      "source": [
        "To solve this problem, let's analyze the joint PMF of X, Y, Z, where X, Y, and Z represent the number of players who choose Rock, Scissors, and Paper, respectively.\n",
        "\n",
        "(a) Joint PMF of X, Y, Z:\n",
        "The total number of players is n. For the game to be decisive, exactly 2 choices must appear among Rock, Scissors, and Paper. Let's consider each case:\n",
        "\n",
        "Case 1: X players choose Rock, Y players choose Scissors, and Z players choose Paper.\n",
        "In this case, we have X + Y + Z = n. Since exactly 2 choices appear, two of X, Y, Z must be non-zero, and the remaining one will be zero. There are three possible arrangements for this scenario, depending on which two values are non-zero. For each arrangement, the probability is the product of the probabilities of the individual choices.\n",
        "\n",
        "P(X = x, Y = y, Z = z) = 3 * (1/3)^n\n",
        "\n",
        "Case 2: Two of X, Y, Z are zero, and the remaining value is n.\n",
        "In this case, only one choice appears among Rock, Scissors, and Paper. Again, there are three possible arrangements, and the probability is the product of the probabilities of the individual choices.\n",
        "\n",
        "P(X = x, Y = y, Z = z) = 3 * (1/3)^n\n",
        "\n",
        "(b) Probability that the game is decisive:\n",
        "To find the probability that the game is decisive, we need to sum the probabilities from Case 1, as Case 2 represents an indecisive game.\n",
        "\n",
        "P(Game is decisive) = Σ P(X = x, Y = y, Z = z) over all x, y, z with exactly 2 non-zero values\n",
        "\n",
        "Since there are three possible arrangements for each Case 1, the sum simplifies to:\n",
        "\n",
        "P(Game is decisive) = 3 * Σ (1/3)^n\n",
        "\n",
        "Simplifying further, we can rewrite the sum as a geometric series:\n",
        "\n",
        "P(Game is decisive) = 3 * [(1/3)^n + (1/3)^n + (1/3)^n] = 3 * 3 * (1/3)^n = 9 * (1/3)^n\n",
        "\n",
        "(c) Probability of a decisive game for n = 5:\n",
        "For n = 5, we substitute the value in the expression derived in part (b):\n",
        "\n",
        "P(Game is decisive) = 9 * (1/3)^5 = 9/243 = 1/27\n",
        "\n",
        "(d) Limiting probability as n approaches infinity:\n",
        "As n approaches infinity, the probability of an indecisive game decreases exponentially, as each player's choice becomes less likely to match exactly with another player's choice. Therefore, the probability of a decisive game approaches 1.\n",
        "\n",
        "In other words, as n tends to infinity:\n",
        "\n",
        "lim P(Game is decisive) = lim 9 * (1/3)^n = 9 * 0 = 0\n",
        "\n",
        "This makes sense intuitively because as the number of players becomes very large, it becomes highly unlikely that exactly 2 choices will appear among Rock, Scissors, and Paper, resulting in an increasingly decisive game."
      ],
      "metadata": {
        "id": "-TXru9A3eq__"
      }
    },
    {
      "cell_type": "markdown",
      "source": [],
      "metadata": {
        "id": "f4fbNel9eukq"
      }
    }
  ]
}