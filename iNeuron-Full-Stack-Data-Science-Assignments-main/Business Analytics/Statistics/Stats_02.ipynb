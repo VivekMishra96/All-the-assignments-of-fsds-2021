{
  "nbformat": 4,
  "nbformat_minor": 0,
  "metadata": {
    "colab": {
      "provenance": []
    },
    "kernelspec": {
      "name": "python3",
      "display_name": "Python 3"
    },
    "language_info": {
      "name": "python"
    }
  },
  "cells": [
    {
      "cell_type": "markdown",
      "source": [
        "1.\n",
        "Raindrops are falling at an average rate of 20 drops per square inch per minute. What would\n",
        "be a reasonable distribution to use for the number of raindrops hitting a particular region\n",
        "measuring 5 inches2 in t minutes? Why? Using your chosen distribution, compute the\n",
        "probability that the region has no rain drops in a given 3 second time interval. A reasonable\n",
        "choice of distribution is P"
      ],
      "metadata": {
        "id": "WnzV9LVSFKqP"
      }
    },
    {
      "cell_type": "markdown",
      "source": [
        "A reasonable distribution to model the number of raindrops hitting a particular region in a given time interval would be the Poisson distribution. The Poisson distribution is often used to model the number of events occurring in a fixed interval of time or space when these events occur with a known average rate, as in this case.\n",
        "\n",
        "The Poisson distribution is appropriate because it satisfies the following assumptions:\n",
        "\n",
        "1. Events occur at a constant average rate (20 drops per square inch per minute).\n",
        "2. The occurrence of one event is independent of the occurrence of other events.\n",
        "3. The probability of more than one event occurring in an infinitesimally small time or space interval is negligible.\n",
        "\n",
        "Using the Poisson distribution, we can calculate the probability that the region has no raindrops in a given 3-second time interval. Let's denote the average rate as λ, which is the product of the average rate per square inch (20 drops per square inch per minute) and the area of the region (5 square inches). Thus, λ = 20 * 5 = 100 drops per minute.\n",
        "\n",
        "To find the probability of no raindrops in a 3-second interval, we need to convert the average rate to drops per 3 seconds. Since there are 60 seconds in a minute, the average rate per 3 seconds would be (100 drops per minute * 3 seconds) / 60 seconds = 5 drops.\n",
        "\n",
        "Using the Poisson distribution formula, the probability of no raindrops in a 3-second interval can be calculated as:\n",
        "\n",
        "P(X = 0) = (e^(-λ) * λ^0) / 0! = e^(-λ) = e^(-5)\n",
        "\n",
        "Therefore, the probability that the region has no raindrops in a given 3-second time interval is approximately e^(-5)."
      ],
      "metadata": {
        "id": "1m78V-B6FZxX"
      }
    },
    {
      "cell_type": "markdown",
      "source": [
        "2.\n",
        "Let X be a random day of the week, coded so that Monday is 1, Tuesday is 2, etc. (so X takes\n",
        "values 1, 2,..., 7, with equal probabilities). Let Y be the next day after X (again represented as\n",
        "an integer between 1 and 7). Do X and Y have the same distribution? What is P(X)"
      ],
      "metadata": {
        "id": "wwSLCimdFdXv"
      }
    },
    {
      "cell_type": "markdown",
      "source": [
        "X and Y do not have the same distribution. While X is uniformly distributed over the days of the week, Y is not.\n",
        "\n",
        "To see this, we can consider the possible values of Y given a value of X:\n",
        "\n",
        "- If X = 1 (Monday), then Y can take the values 2, 3, 4, 5, 6, 7 (Tuesday to Sunday) with equal probabilities.\n",
        "- If X = 2 (Tuesday), then Y can take the values 3, 4, 5, 6, 7, 1 (Wednesday to Monday) with equal probabilities.\n",
        "- Similarly, for X = 3, 4, 5, 6, 7, Y can take the values in a cyclical pattern: (X+1, X+2, ..., 7, 1, 2, ..., X-1), each with equal probabilities.\n",
        "\n",
        "From the above analysis, it is evident that the distribution of Y depends on the value of X. The probabilities of the different values of Y are not equal, as they vary based on the current day X.\n",
        "\n",
        "Regarding P(X), since X takes values from 1 to 7 with equal probabilities, and there are 7 possible outcomes, we have:\n",
        "\n",
        "P(X) = 1/7 for each value of X."
      ],
      "metadata": {
        "id": "Pa5DpRanFimO"
      }
    },
    {
      "cell_type": "code",
      "source": [],
      "metadata": {
        "id": "FLrXn8-6GMmF"
      },
      "execution_count": null,
      "outputs": []
    }
  ]
}