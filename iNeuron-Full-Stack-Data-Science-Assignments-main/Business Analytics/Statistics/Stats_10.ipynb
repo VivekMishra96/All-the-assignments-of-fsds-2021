{
  "nbformat": 4,
  "nbformat_minor": 0,
  "metadata": {
    "colab": {
      "provenance": []
    },
    "kernelspec": {
      "name": "python3",
      "display_name": "Python 3"
    },
    "language_info": {
      "name": "python"
    }
  },
  "cells": [
    {
      "cell_type": "markdown",
      "source": [
        "1.\n",
        "A chicken lays n eggs. Each egg independently does or doesn’t hatch, with probability p of\n",
        "hatching. For each egg that hatches, the chick does or doesn’t survive (independently of the\n",
        "other eggs), with probability s of survival. Let N ⇠ Bin(n, p) be the number of eggs which\n",
        "hatch, X be the number of chicks which survive, and Y be the number of chicks which hatch\n",
        "but don’t survive (so X + Y = N). Find the marginal PMF of X, and the joint PMF of X and Y .\n",
        "Are they independent?"
      ],
      "metadata": {
        "id": "NcI2ybVHmjyx"
      }
    },
    {
      "cell_type": "markdown",
      "source": [
        "Ans.\n",
        "\n",
        "To find the marginal probability mass function (PMF) of X (the number of chicks that survive), we need to sum over all possible values of N (the number of eggs that hatch). X is the number of chicks that survive, so it can take values from 0 to N (inclusive).\n",
        "\n",
        "The marginal PMF of X is given by:\n",
        "\n",
        "P(X = k) = Σ P(X = k | N = n) * P(N = n)\n",
        "\n",
        "We know that X + Y = N, so we can express P(X = k | N = n) as P(Y = n - k | N = n). Therefore, the marginal PMF of X becomes:\n",
        "\n",
        "P(X = k) = Σ P(Y = n - k | N = n) * P(N = n)\n",
        "\n",
        "Let's calculate the joint PMF of X and Y:\n",
        "\n",
        "P(X = k, Y = m) = P(Y = m | X = k) * P(X = k)\n",
        "\n",
        "Since X + Y = N, we have X = k, Y = N - k. Therefore:\n",
        "\n",
        "P(X = k, Y = N - k) = P(Y = N - k | X = k) * P(X = k)\n",
        "\n",
        "Now, let's determine if X and Y are independent. Two random variables X and Y are independent if and only if their joint PMF can be expressed as the product of their marginal PMFs:\n",
        "\n",
        "P(X = k, Y = N - k) = P(X = k) * P(Y = N - k)\n",
        "\n",
        "If this equation holds for all possible values of k and N, then X and Y are independent.\n",
        "\n",
        "Comparing the expressions, we can see that:\n",
        "\n",
        "P(X = k, Y = N - k) = P(Y = N - k | X = k) * P(X = k)\n",
        "\n",
        "The right side of the equation is the product of the marginal PMF of X (P(X = k)) and the conditional probability of Y given X (P(Y = N - k | X = k)). If these two terms are equal to the left side of the equation (P(X = k, Y = N - k)), then X and Y are independent.\n",
        "\n",
        "In general, X and Y are not independent because the conditional probability of Y given X depends on X. However, if we assume that s (the probability of survival) is the same for all chicks, regardless of the number of chicks that hatch, then X and Y can be considered independent.\n",
        "\n",
        "If s is not constant and varies based on the number of chicks that hatch, then X and Y are not independent."
      ],
      "metadata": {
        "id": "Gtgnw-CwnAo3"
      }
    },
    {
      "cell_type": "code",
      "source": [],
      "metadata": {
        "id": "Dsl2l-vQnDwe"
      },
      "execution_count": null,
      "outputs": []
    }
  ]
}