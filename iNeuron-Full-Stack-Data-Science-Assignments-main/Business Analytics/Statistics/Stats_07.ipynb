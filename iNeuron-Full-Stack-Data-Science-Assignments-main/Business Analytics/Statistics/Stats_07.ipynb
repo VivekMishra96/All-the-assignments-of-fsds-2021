{
  "nbformat": 4,
  "nbformat_minor": 0,
  "metadata": {
    "colab": {
      "provenance": []
    },
    "kernelspec": {
      "name": "python3",
      "display_name": "Python 3"
    },
    "language_info": {
      "name": "python"
    }
  },
  "cells": [
    {
      "cell_type": "markdown",
      "source": [
        "1.\n",
        "A spam filter is designed by looking at commonly occurring phrases in spam. Suppose that\n",
        "80% of email is spam. In 10% of the spam emails, the phrase “free money” is used, whereas\n",
        "this phrase is only used in 1% of non-spam emails. A new email has just arrived, which does\n",
        "mention “free money”. What is the probability that it is spam?"
      ],
      "metadata": {
        "id": "jiNn_qrUff81"
      }
    },
    {
      "cell_type": "markdown",
      "source": [
        "Ans.\n",
        "To find the probability that the new email is spam given that it mentions the phrase \"free money,\" we can apply Bayes' theorem.\n",
        "\n",
        "Let's denote the events as follows:\n",
        "\n",
        "S: The email is spam.\n",
        "NS: The email is not spam.\n",
        "FM: The email mentions the phrase \"free money.\"\n",
        "\n",
        "We want to calculate P(S | FM), which represents the probability that the email is spam given that it mentions \"free money.\"\n",
        "\n",
        "According to the problem statement, we have the following information:\n",
        "\n",
        "P(S) = 0.80 (the probability of an email being spam)\n",
        "P(NS) = 0.20 (the probability of an email not being spam)\n",
        "P(FM | S) = 0.10 (the probability of the phrase \"free money\" being used in a spam email)\n",
        "P(FM | NS) = 0.01 (the probability of the phrase \"free money\" being used in a non-spam email)\n",
        "\n",
        "Now, let's apply Bayes' theorem:\n",
        "\n",
        "P(S | FM) = (P(FM | S) * P(S)) / P(FM)\n",
        "\n",
        "To find P(FM), we can use the law of total probability:\n",
        "\n",
        "P(FM) = P(FM | S) * P(S) + P(FM | NS) * P(NS)\n",
        "\n",
        "Substituting the given probabilities into the equation, we have:\n",
        "\n",
        "P(S | FM) = (0.10 * 0.80) / [(0.10 * 0.80) + (0.01 * 0.20)]\n",
        "\n",
        "Simplifying the expression:\n",
        "\n",
        "P(S | FM) = 0.08 / (0.08 + 0.002) = 0.08 / 0.082 = 0.9756\n",
        "\n",
        "Therefore, the probability that the new email is spam, given that it mentions \"free money,\" is approximately 0.9756 or 97.56%.\n"
      ],
      "metadata": {
        "id": "SDqdMjN-fqmt"
      }
    },
    {
      "cell_type": "markdown",
      "source": [],
      "metadata": {
        "id": "dS80oiunfqvg"
      }
    }
  ]
}