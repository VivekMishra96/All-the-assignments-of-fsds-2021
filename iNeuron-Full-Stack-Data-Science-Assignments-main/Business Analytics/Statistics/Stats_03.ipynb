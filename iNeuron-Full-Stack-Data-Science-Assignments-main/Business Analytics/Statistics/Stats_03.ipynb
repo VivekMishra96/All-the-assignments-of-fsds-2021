{
  "nbformat": 4,
  "nbformat_minor": 0,
  "metadata": {
    "colab": {
      "provenance": []
    },
    "kernelspec": {
      "name": "python3",
      "display_name": "Python 3"
    },
    "language_info": {
      "name": "python"
    }
  },
  "cells": [
    {
      "cell_type": "markdown",
      "source": [
        "1.\n",
        "For a group of 7 people, find the probability that all 4 seasons (winter, spring, summer, fall)\n",
        "occur at least once each among their birthdays, assuming that all seasons are equally likely."
      ],
      "metadata": {
        "id": "XWJumEO1pk8M"
      }
    },
    {
      "cell_type": "markdown",
      "source": [
        "Ans.\n",
        "\n",
        "Let's consider the total number of possible ways the seasons can be assigned to the 7 people. Each person can have one of the four seasons assigned to their birthday, so there are 4^7 (4 raised to the power of 7) possible combinations.\n",
        "\n",
        "Now, let's find the number of ways where at least one season is missing among the birthdays. We'll consider each season separately.\n",
        "\n",
        "Case 1: Winter missing\n",
        "In this case, we have 3 seasons (spring, summer, fall) that can be assigned to each person. So, the number of ways to assign the seasons such that winter is missing is 3^7.\n",
        "\n",
        "Similarly, for each of the other three seasons, we get:\n",
        "Case 2: Spring missing - 3^7 ways\n",
        "Case 3: Summer missing - 3^7 ways\n",
        "Case 4: Fall missing - 3^7 ways\n",
        "\n",
        "However, if we add up these four cases, we would be overcounting the cases where two or more seasons are missing. To correct for this, we need to subtract the cases where two seasons are missing.\n",
        "\n",
        "Case 5: Winter and spring missing\n",
        "In this case, we have 2 seasons (summer, fall) that can be assigned to each person. So, the number of ways to assign the seasons such that winter and spring are missing is 2^7.\n",
        "\n",
        "Similarly, for each of the other three combinations of missing seasons, we get:\n",
        "Case 6: Winter and summer missing - 2^7 ways\n",
        "Case 7: Winter and fall missing - 2^7 ways\n",
        "Case 8: Spring and summer missing - 2^7 ways\n",
        "Case 9: Spring and fall missing - 2^7 ways\n",
        "Case 10: Summer and fall missing - 2^7 ways\n",
        "\n",
        "Now, if we add up all the cases where at least one season is missing and subtract the cases where two seasons are missing, we would have the total number of undesirable outcomes.\n",
        "\n",
        "Undesirable outcomes = Case 1 + Case 2 + Case 3 + Case 4 - Case 5 - Case 6 - Case 7 - Case 8 - Case 9 - Case 10\n",
        "\n",
        "The probability of all four seasons occurring at least once each among the birthdays can be calculated as:\n",
        "\n",
        "Desirable outcomes = Total possible outcomes - Undesirable outcomes\n",
        "Probability = Desirable outcomes / Total possible outcomes\n",
        "\n",
        "Total possible outcomes = 4^7\n",
        "Undesirable outcomes = (3^7 + 3^7 + 3^7 + 3^7) - (2^7 + 2^7 + 2^7 + 2^7 + 2^7 + 2^7)\n",
        "Desirable outcomes = Total possible outcomes - Undesirable outcomes\n",
        "\n",
        "Probability = Desirable outcomes / Total possible outcomes\n",
        "\n",
        "Calculating the values:\n",
        "\n",
        "Total possible outcomes = 4^7 = 16384\n",
        "Undesirable outcomes = (2187 + 2187 + 2187 + 2187) - (128 + 128 + 128 + 128 + 128 + 128) = 8748\n",
        "Desirable outcomes = Total possible outcomes - Undesirable outcomes = 16384 - 8748 = 7636\n",
        "\n",
        "Probability = 7636 / 16384 ≈ 0.4659"
      ],
      "metadata": {
        "id": "axfyqctvqAkk"
      }
    },
    {
      "cell_type": "markdown",
      "source": [
        "Alice attends a small college in which each class meets only once a week. She is deciding\n",
        "between 30 non-overlapping classes. There are 6 classes to choose from for each day of the\n",
        "week, Monday through Friday. Trusting in the benevolence of randomness, Alice decides to\n",
        "register for 7 randomly selected classes out of the 30, with all choices equally likely. What is\n",
        "the probability that she will have classes every day, Monday through Friday?"
      ],
      "metadata": {
        "id": "GujoqXQxqmLb"
      }
    },
    {
      "cell_type": "markdown",
      "source": [
        "To find the probability that Alice will have classes every day, Monday through Friday, we can use the principle of inclusion-exclusion.\n",
        "\n",
        "Let's consider the total number of possible ways Alice can choose 7 classes out of the 30 available classes. This can be calculated using the binomial coefficient, also known as \"n choose k.\" So, the total number of possible choices is given by:\n",
        "\n",
        "Total possible choices = (30 choose 7)\n",
        "\n",
        "Now, let's find the number of ways where at least one day is missing among her chosen classes. We'll consider each day separately.\n",
        "\n",
        "Case 1: Monday missing\n",
        "In this case, Alice cannot choose any classes on Monday. So, she needs to choose 7 classes out of the remaining 24 available classes. The number of ways to choose classes without Monday is given by:\n",
        "\n",
        "Ways without Monday = (24 choose 7)\n",
        "\n",
        "Similarly, for each of the other four days, we get:\n",
        "Case 2: Tuesday missing - (24 choose 7)\n",
        "Case 3: Wednesday missing - (24 choose 7)\n",
        "Case 4: Thursday missing - (24 choose 7)\n",
        "Case 5: Friday missing - (24 choose 7)\n",
        "\n",
        "However, if we add up these five cases, we would be overcounting the cases where two or more days are missing. To correct for this, we need to subtract the cases where two days are missing.\n",
        "\n",
        "Case 6: Monday and Tuesday missing\n",
        "In this case, Alice cannot choose any classes on Monday or Tuesday. So, she needs to choose 7 classes out of the remaining 22 available classes. The number of ways to choose classes without Monday and Tuesday is given by:\n",
        "\n",
        "Ways without Monday and Tuesday = (22 choose 7)\n",
        "\n",
        "Similarly, for each of the other nine combinations of missing days, we get:\n",
        "Case 7: Monday and Wednesday missing - (22 choose 7)\n",
        "Case 8: Monday and Thursday missing - (22 choose 7)\n",
        "Case 9: Monday and Friday missing - (22 choose 7)\n",
        "Case 10: Tuesday and Wednesday missing - (22 choose 7)\n",
        "Case 11: Tuesday and Thursday missing - (22 choose 7)\n",
        "Case 12: Tuesday and Friday missing - (22 choose 7)\n",
        "Case 13: Wednesday and Thursday missing - (22 choose 7)\n",
        "Case 14: Wednesday and Friday missing - (22 choose 7)\n",
        "Case 15: Thursday and Friday missing - (22 choose 7)\n",
        "\n",
        "Now, if we add up all the cases where at least one day is missing and subtract the cases where two days are missing, we would have the total number of undesirable outcomes.\n",
        "\n",
        "Undesirable outcomes = Case 1 + Case 2 + Case 3 + Case 4 + Case 5 - Case 6 - Case 7 - Case 8 - Case 9 - Case 10 - Case 11 - Case 12 - Case 13 - Case 14 - Case 15\n",
        "\n",
        "The probability that Alice will have classes every day can be calculated as:\n",
        "\n",
        "Desirable outcomes = Total possible choices - Undesirable outcomes\n",
        "Probability = Desirable outcomes / Total possible choices\n",
        "\n",
        "Total possible choices = (30 choose 7)\n",
        "Undesirable outcomes = (24 choose 7) + (24 choose 7) + (24 choose 7) + (24 choose 7) + (24 choose 7) - (22 choose 7) - (22 choose 7) - (22 choose 7) - (22 choose 7) - (22 choose 7) - (22 choose 7) - (22 choose 7) - (22 choose 7) - (22 choose 7) - (22 choose 7)\n",
        "Desirable outcomes ="
      ],
      "metadata": {
        "id": "G0uhZEbZqqA2"
      }
    },
    {
      "cell_type": "code",
      "source": [],
      "metadata": {
        "id": "pZTOYCfsqyUP"
      },
      "execution_count": null,
      "outputs": []
    }
  ]
}