{
  "nbformat": 4,
  "nbformat_minor": 0,
  "metadata": {
    "colab": {
      "provenance": []
    },
    "kernelspec": {
      "name": "python3",
      "display_name": "Python 3"
    },
    "language_info": {
      "name": "python"
    }
  },
  "cells": [
    {
      "cell_type": "markdown",
      "source": [
        "1.\n",
        "A crime is committed by one of two suspects, A and B. Initially, there is equal evidence\n",
        "against both of them. In further investigation at the crime scene, it is found that the guilty\n",
        "party had a blood type found in 10% of the population. Suspect A does match this blood\n",
        "type, whereas the blood type of Suspect B is unknown. (a) Given this new information, what\n",
        "is the probability that A is the guilty party? (b) Given this new information, what is the\n",
        "probability that B’s blood type matches that found at the crime scene?"
      ],
      "metadata": {
        "id": "Zn_1avbCgSIP"
      }
    },
    {
      "cell_type": "markdown",
      "source": [
        "Ans.\n",
        "To find the probabilities in this scenario, we can use Bayes' theorem. Let's denote the events as follows:\n",
        "\n",
        "A: Suspect A is the guilty party.\n",
        "B: Suspect B is the guilty party.\n",
        "M: The blood type matches that found at the crime scene.\n",
        "\n",
        "(a) Probability that A is the guilty party:\n",
        "We want to calculate P(A | M), which represents the probability that Suspect A is the guilty party given that the blood type matches that found at the crime scene.\n",
        "\n",
        "According to the problem statement, we have the following information:\n",
        "\n",
        "P(A) = 0.5 (initially equal evidence against both suspects)\n",
        "P(B) = 0.5 (initially equal evidence against both suspects)\n",
        "P(M | A) = 1 (Suspect A matches the blood type found at the crime scene)\n",
        "P(M | B) = 0.1 (Unknown if Suspect B matches the blood type found at the crime scene)\n",
        "\n",
        "Applying Bayes' theorem:\n",
        "\n",
        "P(A | M) = (P(M | A) * P(A)) / P(M)\n",
        "\n",
        "To find P(M), we can use the law of total probability:\n",
        "\n",
        "P(M) = P(M | A) * P(A) + P(M | B) * P(B)\n",
        "\n",
        "Substituting the given probabilities into the equation, we have:\n",
        "\n",
        "P(A | M) = (1 * 0.5) / [(1 * 0.5) + (0.1 * 0.5)]\n",
        "\n",
        "Simplifying the expression:\n",
        "\n",
        "P(A | M) = 0.5 / (0.5 + 0.05) = 0.5 / 0.55 ≈ 0.9091\n",
        "\n",
        "Therefore, the probability that Suspect A is the guilty party, given that the blood type matches that found at the crime scene, is approximately 0.9091 or 90.91%.\n",
        "\n",
        "(b) Probability that B's blood type matches the crime scene:\n",
        "We want to calculate P(M | B), which represents the probability that Suspect B's blood type matches that found at the crime scene.\n",
        "\n",
        "Applying Bayes' theorem:\n",
        "\n",
        "P(M | B) = (P(B | M) * P(M)) / P(B)\n",
        "\n",
        "To find P(B | M), we can use the complement rule:\n",
        "\n",
        "P(B | M) = 1 - P(A | M)\n",
        "\n",
        "Substituting the given probabilities into the equation, we have:\n",
        "\n",
        "P(M | B) = [(1 - P(A | M)) * P(M)] / P(B)\n",
        "\n",
        "Substituting the values calculated in part (a):\n",
        "\n",
        "P(M | B) = [(1 - 0.9091) * P(M)] / P(B)\n",
        "\n",
        "P(B | M) = 0.0909 * P(M) / P(B)\n",
        "\n",
        "To simplify this further, we need additional information about the relationship between P(B) and P(M). Without this information, we cannot determine the exact probability that Suspect B's blood type matches that found at the crime scene."
      ],
      "metadata": {
        "id": "aBspjwN5gZ7v"
      }
    },
    {
      "cell_type": "code",
      "source": [],
      "metadata": {
        "id": "olZTGxK_gky7"
      },
      "execution_count": null,
      "outputs": []
    }
  ]
}