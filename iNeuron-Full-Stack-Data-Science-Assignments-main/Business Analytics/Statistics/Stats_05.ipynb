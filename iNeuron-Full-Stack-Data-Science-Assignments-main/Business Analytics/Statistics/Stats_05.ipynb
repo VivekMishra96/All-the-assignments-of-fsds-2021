{
  "nbformat": 4,
  "nbformat_minor": 0,
  "metadata": {
    "colab": {
      "provenance": []
    },
    "kernelspec": {
      "name": "python3",
      "display_name": "Python 3"
    },
    "language_info": {
      "name": "python"
    }
  },
  "cells": [
    {
      "cell_type": "markdown",
      "source": [
        "1.Give an example of 3 events A, B, C which are pairwise independent but not independent.\n",
        "Hint: find an example where whether C occurs is completely determined if we know whether\n",
        "A occurred and whether B occurred, but completely undetermined if we know only one of\n",
        "these things."
      ],
      "metadata": {
        "id": "jnuG5XBBdWmW"
      }
    },
    {
      "cell_type": "markdown",
      "source": [
        "Ans.\n",
        "In this scenario, A, B, and C are pairwise independent, meaning any two of them are independent. Let's verify this:\n",
        "\n",
        "A and B are independent: The outcome of rolling an even number (A) does not affect the probability of rolling a number greater than 3 (B), and vice versa.\n",
        "B and C are independent: The outcome of rolling a number greater than 3 (B) does not affect the probability of rolling an odd number (C), and vice versa.\n",
        "A and C are independent: The outcome of rolling an even number (A) does not affect the probability of rolling an odd number (C), and vice versa."
      ],
      "metadata": {
        "id": "2Iz2MW8Ddc_b"
      }
    },
    {
      "cell_type": "markdown",
      "source": [
        "2.\n",
        "A bag contains one marble which is either green or blue, with equal probabilities. A green\n",
        "marble is put in the bag (so there are 2 marbles now), and then a random marble is taken\n",
        "out. The marble taken out is green. What is the probability that the remaining marble is also\n",
        "green?"
      ],
      "metadata": {
        "id": "H0NNf8sadsw3"
      }
    },
    {
      "cell_type": "markdown",
      "source": [
        "Ans.\n",
        "To find the probability that the remaining marble is also green, we can use conditional probability. Let's denote the events as follows:\n",
        "\n",
        "G1: The first marble is green.\n",
        "G2: The second marble is green.\n",
        "\n",
        "We want to find P(G2 | G1), which represents the probability that the second marble is green given that the first marble is green.\n",
        "\n",
        "Given the information provided, we know that there are two marbles in the bag, and one of them is green (G1 has occurred). We want to calculate the probability that the remaining marble is also green (G2).\n",
        "\n",
        "Since we are dealing with only two marbles and we already know that one of them is green, there are three equally likely possibilities for the marbles: (G1, G2), (G1, B2), and (B1, G2), where B represents a blue marble.\n",
        "\n",
        "Out of these three possibilities, only two have G1 occurring: (G1, G2) and (G1, B2). In both of these cases, G2 occurs.\n",
        "\n",
        "Therefore, out of the two cases where G1 occurs, G2 also occurs in one case, meaning that the probability of G2 given G1 is 1/2.\n",
        "\n",
        "Hence, the probability that the remaining marble is also green, given that the first marble is green, is 1/2."
      ],
      "metadata": {
        "id": "TjBQF9QtdvqA"
      }
    },
    {
      "cell_type": "code",
      "source": [],
      "metadata": {
        "id": "pzxGJd2fd2-7"
      },
      "execution_count": null,
      "outputs": []
    }
  ]
}